{
 "cells": [
  {
   "cell_type": "code",
   "execution_count": null,
   "id": "e9b067da",
   "metadata": {},
   "outputs": [
    {
     "name": "stderr",
     "output_type": "stream",
     "text": [
      "Generating train split: 100%|██████████| 200/200 [00:00<00:00, 2109.12 examples/s]\n",
      "Generating train split: 100%|██████████| 200/200 [00:00<00:00, 8075.75 examples/s]\n",
      "Generating train split: 100%|██████████| 6221/6221 [00:00<00:00, 61557.83 examples/s]\n",
      "Generating train split: 100%|██████████| 6221/6221 [00:00<00:00, 20903.34 examples/s]"
     ]
    },
    {
     "name": "stdout",
     "output_type": "stream",
     "text": [
      "ExpertWritten samples: 200\n",
      "Simulated samples: 200\n",
      "Synthetic samples: 6221\n",
      "KB articles: 6221\n"
     ]
    },
    {
     "name": "stderr",
     "output_type": "stream",
     "text": [
      "\n"
     ]
    }
   ],
   "source": [
    "from datasets import load_dataset\n",
    "\n",
    "# Load QA subsets\n",
    "cache_dir = \"../data/wixqa_data\"\n",
    "expert_ds = load_dataset(\"Wix/WixQA\", \"wixqa_expertwritten\",cache_dir=cache_dir)\n",
    "simulated_ds = load_dataset(\"Wix/WixQA\", \"wixqa_simulated\",cache_dir=cache_dir)\n",
    "synthetic_ds = load_dataset(\"Wix/WixQA\", \"wixqa_synthetic\",cache_dir=cache_dir)\n",
    "\n",
    "# Load the KB corpus\n",
    "kb_ds = load_dataset(\"Wix/WixQA\", \"wix_kb_corpus\",cache_dir=cache_dir)\n",
    "\n",
    "# Inspect splits\n",
    "print(\"ExpertWritten samples:\", expert_ds[\"train\"].num_rows)\n",
    "print(\"Simulated samples:\", simulated_ds[\"train\"].num_rows)\n",
    "print(\"Synthetic samples:\", synthetic_ds[\"train\"].num_rows)\n",
    "print(\"KB articles:\", kb_ds[\"train\"].num_rows)\n"
   ]
  },
  {
   "cell_type": "code",
   "execution_count": 10,
   "id": "4192b962",
   "metadata": {},
   "outputs": [
    {
     "data": {
      "text/plain": [
       "DatasetDict({\n",
       "    train: Dataset({\n",
       "        features: ['question', 'answer', 'article_ids'],\n",
       "        num_rows: 200\n",
       "    })\n",
       "})"
      ]
     },
     "execution_count": 10,
     "metadata": {},
     "output_type": "execute_result"
    }
   ],
   "source": [
    "simulated_ds"
   ]
  },
  {
   "cell_type": "code",
   "execution_count": 11,
   "id": "390a312b",
   "metadata": {},
   "outputs": [
    {
     "data": {
      "text/plain": [
       "DatasetDict({\n",
       "    train: Dataset({\n",
       "        features: ['question', 'answer', 'article_ids'],\n",
       "        num_rows: 6221\n",
       "    })\n",
       "})"
      ]
     },
     "execution_count": 11,
     "metadata": {},
     "output_type": "execute_result"
    }
   ],
   "source": [
    "synthetic_ds"
   ]
  },
  {
   "cell_type": "code",
   "execution_count": 15,
   "id": "9811af72",
   "metadata": {},
   "outputs": [
    {
     "name": "stdout",
     "output_type": "stream",
     "text": [
      "Answer_1\n",
      "You can start accepting payments on your site using [Wix Payments](https://support.wix.com/en/article/about-wix-payments) almost immediately. However, we need to verify your identity before your account can be fully activated. \n",
      " \n",
      " \n",
      "\n",
      "Answer_2\n",
      "When you purchase a yearly Premium plan, the free domain voucher is not immediately visible at checkout. Instead, the voucher becomes available after you complete the purchase of the plan. You can then claim the voucher by visiting the [Premium Vouchers page](https://manage.wix.com/account/vouchers?referralAdditionalInfo=%7Btheir) in your Wix account. The voucher is valid for two months from the date of purchase, and you can use it to register a domain for free for one year. If you have already purchased the plan and still do not see the voucher, ensure that you meet all eligibility criteria, such as not having purchased a monthly plan or a domain prior to the plan. If issues persist, you can [contact Wix Customer Care](https://support.wix.com/en/article/contacting-wix-customer-care-for-support) for further assistance. \n",
      " \n",
      " \n",
      "\n",
      "Answer_3\n",
      "To upgrade your email marketing plan:\n",
      "[Go to Email Marketing](https://www.wix.com/my-account/site-selector/?buttonText=Email%20Marketing%20Dashboard&title=Select%20a%20Site&autoSelectOnSingleSite=true&actionUrl=https://www.wix.com/dashboard/%7B%7BmetaSiteId%7D%7D/shoutout/) in your site's dashboard.  Under Monthly Balance click Upgrade.\n",
      "  Choose a plan that works best for you and checkout. \n",
      " \n",
      " \n",
      "\n",
      "Answer_4\n",
      "Wix Stores gives you all the tools you need to create a sleek, professional online store and grow your eCommerce business.\n",
      "  \n",
      "Wix Bookings, however, is an easy-to-use scheduling system that lets your members book and [pay for] (https://support.wix.com/en/article/wix-bookings-about-getting-paid-online) services online, so you can focus on managing your business. Whether you offer services like workshops, courses, or private sessions, online or in-person, Wix Bookings has you covered. \n",
      " \n",
      " \n",
      "\n",
      "Answer_5\n",
      "To add discounts to your service prices when customers pay for a plan, you can create discount coupons for your pricing plans. You can choose to offer a price discount or a percentage discount coupon. You can also choose whether your discount coupons apply to a specific plan or to all your pricing plans. Your clients redeem the coupon at checkout to take advantage of the discounted plans. Note: Discount coupons for Pricing Plans cover the plans themselves, but not any setup fees you may have enabled. To create discount coupons for your pricing plans:\n",
      "\n",
      "1. Go to Pricing Plans in your site's dashboard.\n",
      "2. Click the More Actions icon at the top.\n",
      "3. Click Create a coupon.\n",
      "4. Select the type of coupon you want to offer:\n",
      "   - $ Discount: Offer a fixed monetary discount amount.\n",
      "   - % Discount: Offer a percentage discount.\n",
      "5. Enter the Coupon code clients use to redeem the coupon.\n",
      "6. Enter the Coupon name for your own records.\n",
      "7. Click the Apply to drop-down and choose the relevant pricing plan(s):\n",
      "   - All plans: This is applied to all your available pricing plans.\n",
      "   - Specific plan: Click the Pricing plan drop-down and select the relevant plan.\n",
      "8. Choose how the coupon works with your pricing plans:\n",
      "   - First billing cycle: The coupon offers a one-time discount at the start of the pricing plan.\n",
      "   - All billing cycles: The coupon offers a recurring discount, every time your client is charged.\n",
      "   - Custom: You choose how your coupons work with recurring payments (e.g. give a discount for the first 4 billing cycles).\n",
      "9. Select the dates the coupon is valid between.\n",
      "10. (Optional) Select the Limit the total number of uses for this coupon checkbox and enter the number of times the coupon can be used.\n",
      "11. (Optional) Select the Limit to one use per customer checkbox if you want clients to be able to use the coupon only one time.\n",
      "12. Click Create Coupon. \n",
      " \n",
      " \n",
      "\n",
      "Answer_6\n",
      "To change the order of items within a CMS collection on your Wix site, you should follow these steps:\n",
      "\n",
      "1. Go to the CMS in your site's dashboard or editor.\n",
      "2. Click on the relevant collection.\n",
      "3. If you have multiple collection views, select the view you want to sort items in.\n",
      "4. Click 'Sort' at the top of your collection.\n",
      "5. Click '+ Add a Sort'.\n",
      "6. Choose the field you want to sort by from the 'Sort by' drop-down menu.\n",
      "7. Select the sorting order (e.g., A-Z, Low-High, Oldest-Newest).\n",
      "8. Click 'Add Sort'.\n",
      "9. To apply this order to your live site, enable the 'Mirror on Site' toggle at the top of the collection.\n",
      "\n",
      "If these steps did not work, ensure that the 'Mirror on Site' feature is enabled, as this is necessary for the order in your collection view to be reflected on your live site. Additionally, check if there are any sort conditions added to datasets, as these can override the order set in your mirrored collection view. For more detailed guidance, you can refer to the [Wix support article on mirroring item order](https://support.wix.com/en/article/cms-mirroring-the-order-of-items-in-your-collection-to-your-sites-connected-elements). \n",
      " \n",
      " \n",
      "\n",
      "Answer_7\n",
      "To sync your hotel app with your calendars using an iCal link, you can import reservations from external services like Airbnb, HomeAway, and VRBO to your Wix Hotels reservation calendar. This is a one-way sync from iCal to the Wix Calendar.\n",
      "To import your external calendar - \n",
      "  1. [Locate your iCal URL.] (https://support.wix.com/en/article/finding-your-ical-url)\n",
      "  2. [Go to your dashboard.] (https://support.wix.com/en/article/accessing-your-sites-dashboard)\n",
      "  3. Click the Hotels tab.\n",
      "  4. Click to expand the Reservations tab.\n",
      "  5. Select iCal.\n",
      "  6. Click the Choose Type drop-down menu and select a room type.\n",
      "  7. Paste your iCal URL into the URL field. \n",
      "  8. (Optional) Click Add Calendar to add another room type and paste the iCal URL in the URL field.\n",
      "  9. Click Save.\n",
      "Please note that - \n",
      "  * You can only import from services that allow you to export your calendar in iCal format.\n",
      "  * The sync is one way only, from iCal to the Wix Calendar.\n",
      "  * If you have multiple room types, you must add a different iCal URL for each room type.\n",
      "  * Imported rates do not appear in the calendar. Rates can be viewed by clicking on the reservation in the calendar and scrolling down to the Payment Details section.\n",
      "  * This feature is not compatible with the Wix Hotels Channel Manager. If you want to connect the Channel Manager please delete all the URLs in this tab before doing so. \n",
      " \n",
      " \n",
      "\n",
      "Answer_8\n",
      "To verify your domain with Google Workspace by adding a TXT record, you need to manage your DNS settings with your domain host, not Wix, since your domain is connected via pointing. Follow these steps:\n",
      "\n",
      "1. Log in to your domain host account where your DNS records are managed.\n",
      "2. Add the TXT record provided by Google Workspace to your domain's DNS settings.\n",
      "3. After adding the TXT record, return to the Google Admin Console and click 'Verify'. \n",
      " \n",
      " \n",
      "\n",
      "Answer_9\n",
      "If you've previously added a Recovery Phone Number to your Wix account, you can get a one-time SMS code sent to your mobile phone to recover your Wix account.\n",
      "  To recover your account:\n",
      "  1. Go to the Wix Log In page. (https://users.wix.com/signin)\n",
      "  2. Click Forgot Email?.\n",
      "  3. Select Can't access my login email.\n",
      "  4. Click Next.\n",
      "  5. Enter the email address associated with your Wix account. \n",
      "  6. Click Next.\n",
      "  7. Select Send me a code to my phone number ending with XXXX and click Next.\n",
      "  8. Enter the one-time verification code sent to your phone under Enter code here.\n",
      "  9. Click Verify.\n",
      "  10. Enter a new password and retype it.\n",
      "  11. Click Save New Password. \n",
      "  \n",
      "  After you recover your account, you should change the email address of your account (https://support.wix.com/en/article/changing-the-email-address-of-your-wix-account) to one that you are able to access.\n",
      "  To change your email address:\n",
      "  1. Go to Account Settings in your Wix account.\n",
      "  2. Click the Account email field.\n",
      "  3. Enter your Wix account password in the pop-up.\n",
      "  4. Enter your new account email address.\n",
      "  5. Retype your new email account email address to confirm it.\n",
      "  6. Click Next.\n",
      "  7. Check your email account for an email from Wix.\n",
      "  8. Copy the 6-digit confirmation code.\n",
      "  9. Go back to Account Settings in your Wix account.\n",
      "  10. Paste the code into the pop-up.\n",
      "  11. Click Submit. \n",
      " \n",
      " \n",
      "\n",
      "Answer_10\n",
      "There are 2 main reasons for payment providers not appearing in the Accept Payments tab:\n",
      "  \n",
      "  1. Different payment providers are available in different locations. PayPal is available in around 200 countries. Please check the following link to make sure PayPal is available in your location: [visit PayPal] (https://www.paypal.com/pn/webapps/mpp/country-worldwide).\n",
      "  \n",
      "  \n",
      "  2. If you began onboarding with Wix Payments, you may have selected a prohibited product or service. If so, this may remove the option to onboard with other payment providers who prohibit similar items. \n",
      "  \n",
      "  For more information, please see [our checklist for restricted products & services when setting up your payments] (https://support.wix.com/en/article/checking-for-restricted-products-services-when-setting-up-your-payments).\n",
      "  \n",
      "  If you mistakenly completed a CBD declaration, or selected a restricted product/service, please contact [Wix Customer Care] (https://www.wix.com/contact). \n",
      " \n",
      " \n",
      "\n"
     ]
    }
   ],
   "source": [
    "for i in range(10):\n",
    "    print(f\"Answer_{i+1}\")\n",
    "    print(expert_ds[\"train\"][i][\"answer\"], \"\\n\", \"\\n\", \"\\n\")\n"
   ]
  },
  {
   "cell_type": "code",
   "execution_count": 6,
   "id": "229c030f",
   "metadata": {},
   "outputs": [],
   "source": [
    "from datasets import load_dataset\n",
    "cache_dir = \"../data/wixqa_data\""
   ]
  },
  {
   "cell_type": "code",
   "execution_count": 7,
   "id": "27de4e78",
   "metadata": {},
   "outputs": [
    {
     "name": "stderr",
     "output_type": "stream",
     "text": [
      "Generating train split: 100%|██████████| 6221/6221 [00:00<00:00, 31139.92 examples/s]\n"
     ]
    }
   ],
   "source": [
    "kb_ds = load_dataset(\"Wix/WixQA\", \"wix_kb_corpus\",cache_dir=cache_dir)"
   ]
  },
  {
   "cell_type": "code",
   "execution_count": 81,
   "id": "ea611cb1",
   "metadata": {},
   "outputs": [
    {
     "data": {
      "text/plain": [
       "'d:\\\\Projects\\\\Chatbot_Project\\\\Chatbot\\\\Notebooks'"
      ]
     },
     "execution_count": 81,
     "metadata": {},
     "output_type": "execute_result"
    }
   ],
   "source": [
    "import os\n",
    "os.getcwd()"
   ]
  },
  {
   "cell_type": "code",
   "execution_count": 13,
   "id": "b1bbf6e8",
   "metadata": {},
   "outputs": [
    {
     "name": "stdout",
     "output_type": "stream",
     "text": [
      "d:\\Projects\\Chatbot_Project\\Chatbot\\Notebooks\n"
     ]
    }
   ],
   "source": []
  },
  {
   "cell_type": "code",
   "execution_count": 2,
   "id": "2e6d5ea0",
   "metadata": {},
   "outputs": [
    {
     "name": "stdout",
     "output_type": "stream",
     "text": [
      "Question: Can I start accepting payments on my site while my Wix Payments account is still under verification?\n",
      "Answer: You can start accepting payments on your site using [Wix Payments](https://support.wix.com/en/article/about-wix-payments) almost immediately. However, we need to verify your identity before your account can be fully activated.\n",
      "Relevant article IDs: ['49d9e88fadbf11fa4e685c847590078ff9394c2fe7566094f504f53ca4aca465']\n"
     ]
    }
   ],
   "source": [
    "# Peek one ExpertWritten sample\n",
    "sample = expert_ds[\"train\"][0]\n",
    "print(\"Question:\", sample[\"question\"])\n",
    "print(\"Answer:\", sample[\"answer\"])\n",
    "print(\"Relevant article IDs:\", sample[\"article_ids\"])"
   ]
  },
  {
   "cell_type": "code",
   "execution_count": 3,
   "id": "1048973d",
   "metadata": {},
   "outputs": [
    {
     "data": {
      "text/plain": [
       "DatasetDict({\n",
       "    train: Dataset({\n",
       "        features: ['id', 'url', 'contents', 'title', 'html_content', 'article_type'],\n",
       "        num_rows: 6221\n",
       "    })\n",
       "})"
      ]
     },
     "execution_count": 3,
     "metadata": {},
     "output_type": "execute_result"
    }
   ],
   "source": [
    "kb_ds"
   ]
  },
  {
   "cell_type": "code",
   "execution_count": 4,
   "id": "dfdef5c3",
   "metadata": {},
   "outputs": [
    {
     "name": "stdout",
     "output_type": "stream",
     "text": [
      "Wix Events: About the Event Details and Registration Form Pages\n",
      "Guests visiting your site view the events you offer on the Events List page. From there they can learn more on the Events Details page (if enabled) and  complete the booking on the Registration Form Page. You can customize how these pages look to suit your events.Tips:\n",
      "Customizations you make to the Events Details page and the Registration Form page (e.g. changing colors and fonts, hiding page elements) affect these page for all events.   If your site only has events without tickets, you have the option of disabling the Event Details Page.Events Details PageSite visitors who click to register for an event are first directed to the Event Details page (unless you hid the page). There, guests can receive more complete information about the event. You can customize the page to show or hide various elements, such as a map to the event location and an \"About the Event\" description.Events without ticketsEvents without tickets display information and an \"RSVP\" button. If your site only has events without tickets, you have the option of disabling the Event Details Page.Show me howWhen you disable the Event Details page, guests who click to register for an event are directed straight to the Registration Page.\n",
      "Click any of the Wix Events pages in the Editor. Click the Settings icon . Click the Pages tab. Click the Show this page when visitors register toggle to disable it.\n",
      "Events with ticketsFor events with tickets, the Event Details Page includes a ticket section, in addition to information about the location, time, and so on. Here, guests can select how many tickets they want to purchase and view a price breakdown. If your business offers membership plans, you can display the plan for guests to purchase.Note:To edit the event name, location, subtitle, \"About the Event\" description, go to the Events tab in your site dashboard and edit the event.Registration Form PageAfter clicking the RSVP button (for non-ticketed events) or Checkout (for events with tickets), guests are directed to the Registration Form Page.There, guests fill in the names and email addresses. In the case of events with tickets, guest also complete payment. Schedule PageYou can optionally create a schedule page to let guests know exactly what is happening at your event. The first 2 sessions are displayed. Guests can click \"See All\" to view the complete schedule. \n"
     ]
    }
   ],
   "source": [
    "print(kb_ds[\"train\"][0][\"contents\"])"
   ]
  },
  {
   "cell_type": "code",
   "execution_count": 5,
   "id": "4951061c",
   "metadata": {},
   "outputs": [
    {
     "name": "stdout",
     "output_type": "stream",
     "text": [
      "<div data-component-type=\"text\"><div>Guests visiting your site view the events you offer on the Events List page. From there they can learn more on the Events Details page (if enabled) and  complete the booking on the Registration Form Page. </div></div><div data-component-type=\"image\"><div class=\"img-container\" style=\"text-align:center\"><img src=\"https://d2x3xhvgiqkx42.cloudfront.net/12345678-1234-1234-1234-1234567890ab/8769cf44-f342-494c-b25f-cc98c9da3e82/2020/08/26/a5c4ff10-bf39-44dc-acd7-bb993ee1ad16/4fb294c7-9fa3-4939-8b51-7abd645777a3.gif\" /></div></div><div data-component-type=\"text\"><div>You can customize how these pages look to suit your events.</div></div><div data-component-type=\"informative\"><div class=\"info-container\" info-color=\"green\"><div class=\"info-title\">Tips:</div><div class=\"info-content\"><ul>\n",
      "  <li>Customizations you make to the Events Details page and the Registration Form page (e.g. changing colors and fonts, hiding page elements) affect these page for all events.  </li>  <li>If your site only has events without tickets, you have the option of disabling the Event Details Page.</li></ul></div></div></div><div data-component-type=\"line\"><hr line-style=\"thin\" /></div><div data-component-type=\"heading\"><h2 id=\"events-details-page\" level=\"3\">Events Details Page</h2></div><div data-component-type=\"text\"><div>Site visitors who click to register for an event are first directed to the <strong>Event Details</strong> <strong>page</strong> (unless you hid the page). There, guests can receive more complete information about the event. You can customize the page to show or hide various elements, such as a map to the event location and an &quot;About the Event&quot; description.</div></div><div data-component-type=\"heading\"><h2 id=\"\" level=\"4\">Events without tickets</h2></div><div data-component-type=\"text\"><div>Events without tickets display information and an &quot;RSVP&quot; button. </div></div><div data-component-type=\"image\"><div class=\"img-container\" style=\"text-align:center\"><img src=\"https://d2x3xhvgiqkx42.cloudfront.net/12345678-1234-1234-1234-1234567890ab/8769cf44-f342-494c-b25f-cc98c9da3e82/2020/08/26/afc290ac-0a3b-4481-b40c-9c091f66e14d/94418c61-58c4-46db-ab82-0616771a0478.png\" /></div></div><div data-component-type=\"text\"><div>If your site only has events without tickets, you have the option of disabling the Event Details Page.</div></div><div data-component-type=\"collapsible\"><div><h4 class=\"collapsible-title\">Show me how</h4><div class=\"collapsible-content\"><div>When you disable the Event Details page, guests who click to register for an event are directed straight to the Registration Page.</div><ol>\n",
      "  <li>Click any of the Wix Events pages in the Editor.</li>  <li>Click the Settings icon <img data-composite=\"true\" src=\"https://d2x3xhvgiqkx42.cloudfront.net/12345678-1234-1234-1234-1234567890ab/8769cf44-f342-494c-b25f-cc98c9da3e82/2022/06/28/993b5b25-d9e7-4df5-abe8-6d667c3553a8/93b7d612-8c7b-478d-96a2-40048495bb36.png\" />.</li>  <li>Click the <strong>Pages </strong>tab.</li>  <li>Click the <strong>Show this page when visitors register</strong> toggle to disable it.<br />\n",
      "<img data-composite=\"true\" src=\"https://d2x3xhvgiqkx42.cloudfront.net/12345678-1234-1234-1234-1234567890ab/8769cf44-f342-494c-b25f-cc98c9da3e82/2022/06/28/afaa479a-8c07-4ee1-96b0-e564f8c8d126/f33c26df-baf0-41d9-b61d-0297d362976c.png\" /></li></ol></div></div></div><div data-component-type=\"heading\"><h2 id=\"\" level=\"4\">Events with tickets</h2></div><div data-component-type=\"text\"><div>For events with tickets, the Event Details Page includes a ticket section, in addition to information about the location, time, and so on. </div></div><div data-component-type=\"text\"><div>Here, guests can select how many tickets they want to purchase and view a price breakdown. If your business offers <a href=\"https://support.wix.com/en/article/wix-events-creating-a-membership-plan\">membership plans</a>, you can display the plan for guests to purchase.</div></div><div data-component-type=\"image\"><div class=\"img-container\" style=\"text-align:center\"><img src=\"https://d2x3xhvgiqkx42.cloudfront.net/12345678-1234-1234-1234-1234567890ab/8769cf44-f342-494c-b25f-cc98c9da3e82/2020/08/19/3e44ad80-a5d0-48a1-afaf-7b08a1ab0f37/5c050e3c-3796-4a6e-83a4-7f55a10ec3d3.png\" /></div></div><div data-component-type=\"informative\"><div class=\"info-container\" info-color=\"blue\"><div class=\"info-title\">Note:</div><div class=\"info-content\"><div>To edit the event name, location, subtitle, &quot;About the Event&quot; description, go to the Events tab in your site dashboard and edit the event.</div></div></div></div><div data-component-type=\"line\"><hr line-style=\"thin\" /></div><div data-component-type=\"heading\"><h2 id=\"registration-form-page\" level=\"3\">Registration Form Page</h2></div><div data-component-type=\"text\"><div>After clicking the RSVP button (for non-ticketed events) or Checkout (for events with tickets), guests are directed to the <strong>Registration Form Page</strong>.</div></div><div data-component-type=\"text\"><div>There, guests fill in the names and email addresses. In the case of events with tickets, guest also complete payment. </div></div><div data-component-type=\"image\"><div class=\"img-container\" style=\"text-align:center\"><img src=\"https://d2x3xhvgiqkx42.cloudfront.net/12345678-1234-1234-1234-1234567890ab/8769cf44-f342-494c-b25f-cc98c9da3e82/2020/08/19/7b503185-809a-4ee6-b054-3af2d3640a7d/58699643-ac83-418c-9ffc-2511029c94ab.png\" /></div></div><div data-component-type=\"line\"><hr line-style=\"thin\" /></div><div data-component-type=\"heading\"><h2 id=\"schedule-page\" level=\"3\">Schedule Page</h2></div><div data-component-type=\"text\"><div>You can optionally create a schedule page to let guests know exactly what is happening at your event. The first 2 sessions are displayed. Guests can click &quot;See All&quot; to view the complete schedule. </div></div><div data-component-type=\"image\"><div class=\"img-container\" style=\"text-align:center\"><img src=\"https://d2x3xhvgiqkx42.cloudfront.net/12345678-1234-1234-1234-1234567890ab/8769cf44-f342-494c-b25f-cc98c9da3e82/2020/12/16/78fecc30-fa22-43ff-b9a0-676f7a9a73ec/6a38d144-ff29-4e38-aa2b-e2d91c06bf43.png\" /></div></div>\n"
     ]
    }
   ],
   "source": [
    "print(kb_ds[\"train\"][0][\"html_content\"])"
   ]
  },
  {
   "cell_type": "code",
   "execution_count": 6,
   "id": "24a17bc4",
   "metadata": {},
   "outputs": [
    {
     "data": {
      "text/plain": [
       "DatasetDict({\n",
       "    train: Dataset({\n",
       "        features: ['question', 'answer', 'article_ids'],\n",
       "        num_rows: 200\n",
       "    })\n",
       "})"
      ]
     },
     "execution_count": 6,
     "metadata": {},
     "output_type": "execute_result"
    }
   ],
   "source": [
    "expert_ds\n"
   ]
  },
  {
   "cell_type": "code",
   "execution_count": 7,
   "id": "f041d353",
   "metadata": {},
   "outputs": [
    {
     "name": "stdout",
     "output_type": "stream",
     "text": [
      "5245\n"
     ]
    }
   ],
   "source": [
    "m = -1\n",
    "for q,a in zip(expert_ds[\"train\"][\"question\"], expert_ds[\"train\"][\"answer\"]):\n",
    "    m = max(m, len(a))\n",
    "\n",
    "print(m)"
   ]
  },
  {
   "cell_type": "code",
   "execution_count": 8,
   "id": "6f5d0a52",
   "metadata": {},
   "outputs": [
    {
     "name": "stdout",
     "output_type": "stream",
     "text": [
      "51119\n"
     ]
    }
   ],
   "source": [
    "mx = -1\n",
    "for content in kb_ds[\"train\"][\"contents\"]:\n",
    "    mx = max(mx, len(content))\n",
    "\n",
    "print(mx)"
   ]
  },
  {
   "cell_type": "code",
   "execution_count": 12,
   "id": "fb734965",
   "metadata": {},
   "outputs": [
    {
     "data": {
      "text/plain": [
       "'<div data-component-type=\"text\"><div>Guests visiting your site view the events you offer on the Events List page. From there they can learn more on the Events Details page (if enabled) and \\xa0complete the booking on the Registration Form Page.\\xa0</div></div><div data-component-type=\"image\"><div class=\"img-container\" style=\"text-align:center\"><img src=\"https://d2x3xhvgiqkx42.cloudfront.net/12345678-1234-1234-1234-1234567890ab/8769cf44-f342-494c-b25f-cc98c9da3e82/2020/08/26/a5c4ff10-bf39-44dc-acd7-bb993ee1ad16/4fb294c7-9fa3-4939-8b51-7abd645777a3.gif\" /></div></div><div data-component-type=\"text\"><div>You can customize how these pages look to suit your events.</div></div><div data-component-type=\"informative\"><div class=\"info-container\" info-color=\"green\"><div class=\"info-title\">Tips:</div><div class=\"info-content\"><ul>\\n  <li>Customizations you make to the Events Details page and the Registration Form page (e.g. changing colors and fonts, hiding page elements) affect these page for all events. \\xa0</li>  <li>If your site only has events without tickets, you have the option of disabling the Event Details Page.</li></ul></div></div></div><div data-component-type=\"line\"><hr line-style=\"thin\" /></div><div data-component-type=\"heading\"><h2 id=\"events-details-page\" level=\"3\">Events Details Page</h2></div><div data-component-type=\"text\"><div>Site visitors who click to register for an event are first directed to the <strong>Event Details</strong> <strong>page</strong> (unless you hid the page). There, guests can receive more complete information about the event. You can customize the page to show or hide various elements, such as a map to the event location and an &quot;About the Event&quot; description.</div></div><div data-component-type=\"heading\"><h2 id=\"\" level=\"4\">Events without tickets</h2></div><div data-component-type=\"text\"><div>Events without tickets display information and an &quot;RSVP&quot; button.\\xa0</div></div><div data-component-type=\"image\"><div class=\"img-container\" style=\"text-align:center\"><img src=\"https://d2x3xhvgiqkx42.cloudfront.net/12345678-1234-1234-1234-1234567890ab/8769cf44-f342-494c-b25f-cc98c9da3e82/2020/08/26/afc290ac-0a3b-4481-b40c-9c091f66e14d/94418c61-58c4-46db-ab82-0616771a0478.png\" /></div></div><div data-component-type=\"text\"><div>If your site only has events without tickets, you have the option of disabling the Event Details Page.</div></div><div data-component-type=\"collapsible\"><div><h4 class=\"collapsible-title\">Show me how</h4><div class=\"collapsible-content\"><div>When you disable the Event Details page, guests who click to register for an event are directed straight to the Registration Page.</div><ol>\\n  <li>Click any of the Wix Events pages in the Editor.</li>  <li>Click the Settings icon <img data-composite=\"true\" src=\"https://d2x3xhvgiqkx42.cloudfront.net/12345678-1234-1234-1234-1234567890ab/8769cf44-f342-494c-b25f-cc98c9da3e82/2022/06/28/993b5b25-d9e7-4df5-abe8-6d667c3553a8/93b7d612-8c7b-478d-96a2-40048495bb36.png\" />.</li>  <li>Click the <strong>Pages </strong>tab.</li>  <li>Click the <strong>Show this page when visitors register</strong> toggle to disable it.<br />\\n<img data-composite=\"true\" src=\"https://d2x3xhvgiqkx42.cloudfront.net/12345678-1234-1234-1234-1234567890ab/8769cf44-f342-494c-b25f-cc98c9da3e82/2022/06/28/afaa479a-8c07-4ee1-96b0-e564f8c8d126/f33c26df-baf0-41d9-b61d-0297d362976c.png\" /></li></ol></div></div></div><div data-component-type=\"heading\"><h2 id=\"\" level=\"4\">Events with tickets</h2></div><div data-component-type=\"text\"><div>For events with tickets, the Event Details Page includes a ticket section, in addition to information about the location, time, and so on.\\xa0</div></div><div data-component-type=\"text\"><div>Here, guests can select how many tickets they want to purchase and view a price breakdown. If your business offers <a href=\"https://support.wix.com/en/article/wix-events-creating-a-membership-plan\">membership plans</a>, you can display the plan for guests to purchase.</div></div><div data-component-type=\"image\"><div class=\"img-container\" style=\"text-align:center\"><img src=\"https://d2x3xhvgiqkx42.cloudfront.net/12345678-1234-1234-1234-1234567890ab/8769cf44-f342-494c-b25f-cc98c9da3e82/2020/08/19/3e44ad80-a5d0-48a1-afaf-7b08a1ab0f37/5c050e3c-3796-4a6e-83a4-7f55a10ec3d3.png\" /></div></div><div data-component-type=\"informative\"><div class=\"info-container\" info-color=\"blue\"><div class=\"info-title\">Note:</div><div class=\"info-content\"><div>To edit the event name, location, subtitle, &quot;About the Event&quot; description, go to the Events tab in your site dashboard and edit the event.</div></div></div></div><div data-component-type=\"line\"><hr line-style=\"thin\" /></div><div data-component-type=\"heading\"><h2 id=\"registration-form-page\" level=\"3\">Registration Form Page</h2></div><div data-component-type=\"text\"><div>After clicking the RSVP button (for non-ticketed events) or Checkout (for events with tickets), guests are directed to the <strong>Registration Form Page</strong>.</div></div><div data-component-type=\"text\"><div>There, guests fill in the names and email addresses. In the case of events with tickets, guest also complete payment.\\xa0</div></div><div data-component-type=\"image\"><div class=\"img-container\" style=\"text-align:center\"><img src=\"https://d2x3xhvgiqkx42.cloudfront.net/12345678-1234-1234-1234-1234567890ab/8769cf44-f342-494c-b25f-cc98c9da3e82/2020/08/19/7b503185-809a-4ee6-b054-3af2d3640a7d/58699643-ac83-418c-9ffc-2511029c94ab.png\" /></div></div><div data-component-type=\"line\"><hr line-style=\"thin\" /></div><div data-component-type=\"heading\"><h2 id=\"schedule-page\" level=\"3\">Schedule Page</h2></div><div data-component-type=\"text\"><div>You can optionally create a schedule page to let guests know exactly what is happening at your event. The first 2 sessions are displayed. Guests can click &quot;See All&quot; to view the complete schedule.\\xa0</div></div><div data-component-type=\"image\"><div class=\"img-container\" style=\"text-align:center\"><img src=\"https://d2x3xhvgiqkx42.cloudfront.net/12345678-1234-1234-1234-1234567890ab/8769cf44-f342-494c-b25f-cc98c9da3e82/2020/12/16/78fecc30-fa22-43ff-b9a0-676f7a9a73ec/6a38d144-ff29-4e38-aa2b-e2d91c06bf43.png\" /></div></div>'"
      ]
     },
     "execution_count": 12,
     "metadata": {},
     "output_type": "execute_result"
    }
   ],
   "source": [
    "kb_ds[\"train\"][0][\"html_content\"]"
   ]
  },
  {
   "cell_type": "code",
   "execution_count": 10,
   "id": "f05b990f",
   "metadata": {},
   "outputs": [
    {
     "name": "stdout",
     "output_type": "stream",
     "text": [
      "Understanding Your Site's Default SEO Settings\n",
      "By default, Wix adds SEO meta tags and Social Share meta tags (known as open graph or og tags). to your site's pages so that search engines and social networks display them properly.  These default SEO Settings that Wix adds are based on your site's data, as well as common best practices for SEO meta tags. Some SEO settings are general and apply to all your pages, while others are only relevant to specific page types (e.g. Main Pages, Product pages, Event pages).You can customize your default SEO Settings and Social Share settings to structure how these pages appear in search results. Learn more about customizing your SEO SettingsYou can restore your site's SEO settings to their defaults:\n",
      "To restore any field to its default, delete the field's content, and click Save. To restore all fields in a setting to their defaults at once, click the Reset to Wix Default icon . Be sure to click Save and confirm in order to save the default settings. See the default settings for: \n",
      "Main pages Product pages Stores Category page Dynamic item pages Forum posts Forum categories Pro Gallery pages Bookings services Event pages Blog posts Blog categories Blog tags Blog archive pages Online Programs Portfolio projects Portfolio collections Group pages Group posts Members Profile Page Local Business structured data markup Wix Site SearchMain PagesReview the default SEO settings for your site's main pages below. SEO defaults for dynamic pages: \n",
      "Dynamic list pages: Share the same default SEO settings as main pages.  Dynamic item pages: Have separate default SEO settings you can edit per dynamic item page.  All dynamic page URLs: Have a URL slug structure in which you can edit and add variables from your Editor's page settings.Meta Tag NameDefinitionDefault SettingsTitle TagThe title that appears in the search results for the page. Your page name followed by your current site name:{{Page Name | Site Name}}Meta DescriptionThe description that appears in search results for the page (below the title tag and URL).The default setting is blank until you enter a description.Page URLThe page URL that appears in the search result. https://www.domain.com/page-URLHome Page: Your main site address.Other Pages: Your page URL, based on the first name you gave your page.Let search engines index your main site pagesIndicates to search engines whether or not they should crawl and index the page. Enabled: <meta name=”robots” content=”index”>Disabled: <meta name=”robots” content=”noindex”>All pages are indexed by default unless you choose not to let search engines index them.og:titleThe title of your page when it's shared on social networks. <meta property=”og:title” content=” “/>The default is your current Title Tag.og:descriptionThe description of your page when it's shared on social networks. <meta property=”og:description” content=” “/>The default is your current Meta Description.og:imageThe image that appears when your page is shared on social networks. <meta property=”og:image” content=” “/>By default, there is no image unless you have already added an og:image for the entire site.og:urlYour page's URL when it's shared on social networks. <meta property=”og:url” content=”{{your-page-url}}“/>The default is your Page URL.og:image:heightog:image:widthThe width and height (in pixels) of your Social Image.<meta property=”og:image:height” content=”{{image-height}} “/><meta property=”og:image:width” content=”{{image-width}}“/>The default is your image's current proportions.  og:site_nameThe site name that appears when your page is shared on social networks. <meta property=”og:site_name” content=”{{your-site-name}}“/>The default is your site's name.Twitter card sizeThe size of the card that your page information is shared in on Twitter.<meta name=\"twitter:card\" content=\"summary_large_image\">The default card size is Large.twitter:titleThe title of your page when it's shared on Twitter. <meta property=”twitter:title” content=” “/>The default is your current og:title.twitter:descriptionThe description of your page when it's shared on Twitter. <meta property=”twitter:description” content=” “/>The default is your current og:description.twitter:imageThe image that appears when your page is shared on Twitter. <meta property=”twitter:image” content=” “/>The default is your current og:image.CanonicalDefines your page's primary URL to search engines.<link rel=”canonical” href=”{{your-page-url}}”/>Product PagesMeta Tag NameDefinitionDefault SettingsTitle TagThe title that appears in the product page's search result. Your product's name followed by your site's name. {{Product Name | Site Name}}Meta DescriptionThe description that appears below the title and URL in the product page's search result. The default setting is blank until you enter a description. Enter text to apply the same description to every product page, or use variables to create rules with different values for each product page of your site.Page URLThe product page's URL that appears in the search result. https://www.your-site-address.com/product-page/{product name}Let search engines index your productsIndicates to search engines whether or not they should crawl and index the page. Enabled: <meta name=”robots” content=”index”>Disabled: <meta name=”robots” content=”noindex”>All products are indexed by default unless you choose not to let search engines index them.og:titleThe title of your product when it's shared on social networks. <meta property=”og:title” content=” “/>The default is your current Title Tag.og:descriptionThe description of your product when it's shared on social networks. <meta property=”og:description” content=” “/>The default is your current Meta Description.og:imageThe image that appears when your product is shared on social networks. <meta property=”og:image” content=” “/>The default is your current Product Image. Twitter card sizeThe size of the card that your product information is shared in on Twitter.<meta name=\"twitter:card\" content=\"summary_large_image\">The default card size is Large.twitter:titleThe title of your product when it's shared on Twitter. <meta property=”twitter:title” content=” “/>The default is your current og:title.twitter:descriptionThe description of your product when it's shared on Twitter. <meta property=”twitter:description” content=” “/>The default is your current og:description.twitter:imageThe image that appears when your product is shared on Twitter. <meta property=”twitter:image” content=” “/>The default is your current og:image.CanonicalDefines your product page's primary URL to search engines.<link rel=\"canonical\" href=\"https://www.your-site-address.com/product-page/{product-name}\">og:typeDefines your page's type to social networks.<meta property=\"og:type\" content=\"product\" />The default tag indicates it is a product available for purchase.og:urlYour product page's URL when it is shared on social media.<meta property=\"og:url\" content=\"https://www.your-site-address.com/product-page/{product-name}\">product:availabilityIndicates if the product is currently in stock. Changes according the availability you define for the product. In stock: <meta property=\"og:availability\" content=\"https://schema.org/InStock\"/>Out of Stock: <meta property=\"og:availability\" content=\"https://schema.org/OutOfStock\"/>product:price:amountDisplays the product's price, e.g. 40. Changes according to the current product's price. <meta property=\"product:price:amount\" content=\"{price}\">product:price:currencyDisplays the currency of your product price.<meta property=\"product:price:currency\" content=\"{currency (e.g. USD)}\">Structured data markup for product pagesThe structured data markup we add to each of your products is based on Schema.org and Google's recommendations. Your product's markup includes the following settings:Page Type: Product.Page Name: Your product's name. Page Description: Your product's description.SKU: Your product's SKU (product number). This is only relevant if you've manually added SKUs to your products. Image: Your product image's height, width, alt text and URL. Thumbnail: Your product image's thumbnail height, width, alt text and URL. Brand: Your website/business name defined in your General Info settings. Offer Type: The default type is Offer, which means your page features an offer to sell a product.Offer URL: Your product page's URL. Price Currency: Your product price's currency.Price: Your product's price. Availability: In stock or out of stock. Seller Name: Your website/business name defined in your General Info settings.Stores Category PageMeta Tag NameDefinitionDefault SettingsTitle TagThe title that appears in the category's search result. Your category's name followed by your site's name. {{Category Name | Site Name}}Meta DescriptionThe description that appears in the category's search result.The default setting is blank until you enter a description. Enter text to apply the same description to every category page, or use variables to create rules with different values for each category page of your site.Page URLEach category page's URL.The category page's URLhttps://www.your-site-address.com/category/{{Category Slug}}Let search engines index your store categoriesIndicates to search engines whether or not they should crawl and index the category page. Enabled: <meta name=”robots” content=”index”>All category pages are indexed by default unless you choose not to let search engines index them.og:titleThe category's title when sharing on social media.<meta property=”og:title” content=” “/>The default is your current Title Tag.og:descriptionThe category's description when sharing on social media.<meta property=”og:description” content=” “/>The default is your current Meta Description.og:imageThe category's image when sharing on social media.<meta property=”og:image” content=” “/>The default is your current Category Image. Twitter card sizeThe size of the card that your category information is shared in on Twitter.<meta name=\"twitter:card\" content=\"summary_large_image\">The default card size is Large.twitter:titleThe title of your category when it's shared on Twitter. <meta property=”twitter:title” content=” “/>The default is your current og:title.twitter:descriptionThe description of your category when it's shared on Twitter. <meta property=”twitter:description” content=” “/>The default is your current og:description.twitter:imageThe image that appears when your category is shared on Twitter. <meta property=”twitter:image” content=” “/>The default is your current og:image.CanonicalDefines your category page's primary URL to search engines.The category page's URLog:urlYour category page's URL when it is shared on social media.The category page's URLDynamic item pagesView the SEO defaults for dynamic item pages in the table below. SEO defaults for dynamic pages: \n",
      "Dynamic list pages: Share the same default SEO settings as main pages.  Dynamic item pages: Have separate default SEO settings you can edit per dynamic item page. See the table below for details.  All dynamic page URLs: Have a URL slug structure in which you can edit and add variables from your Editor's page settings.Meta Tag NameDefinitionDefault SettingsTitle TagThe title that appears in the search results for the page. Your current primary field followed by your current site name:{{Primary Field | Site Name}}Meta DescriptionThe description that appears in search results for the page (below the title tag and URL).The default setting is blank until you enter a description.Page URLThe page URL that appears in the search result. As defined in the ‘SEO Panel’ in the Editor for that page typeLet search engines index your main site pagesIndicates to search engines whether or not they should crawl and index the page. Enabled: <meta name=”robots” content=”index”>Disabled: <meta name=”robots” content=”noindex”>All pages are indexed by default unless you choose not to let search engines index them.og:titleThe title of your page when it's shared on social networks. <meta property=”og:title” content=” “/>The default is your current Title Tag.og:descriptionThe description of your page when it's shared on social networks. <meta property=”og:description” content=” “/>The default is your current Meta Description.og:imageThe image that appears when your page is shared on social networks. <meta property=”og:image” content=” “/>By default, the collection’s primary image URL.Twitter card sizeThe size of the card that your page information is shared in on Twitter.<meta name=\"twitter:card\" content=\"summary_large_image\">The default card size is Large.twitter:titleThe title of your page when it's shared on Twitter. <meta property=”twitter:title” content=” “/>The default is your current og:title.twitter:descriptionThe description of your page when it's shared on Twitter. <meta property=”twitter:description” content=” “/>The default is your current og:description.twitter:imageThe image that appears when your page is shared on Twitter. <meta property=”twitter:image” content=” “/>The default is your current og:image.CanonicalDefines your page's primary URL to search engines.<link rel=”canonical” href=”{{your-page-url}}”/>The default is the Primary page’s URL.Structured data markup for dynamic item pagesThe structured data markup we add to each of your dynamic item pages is based on Schema.org and Google's recommendations. If you have images or videos on the page, we add an image and/or video markup. Your dynamic item page's markup includes the following settings:\n",
      "Image Height: The height (in pixels) of the collection images connected to the page.   Image Width: The width (in pixels) of the collection images connected to the page.  Image Name: The alt text of the images is used as their names.  Image URL: The web address of your images. Forum post pagesMeta Tag NameDefinitionDefault SettingsTitle TagThe title that appears in the post page's search result.  Your post title followed by your site name. {{Post Name | Site Name}}Meta Description The description that appears below the post page's search result. The first 300 characters of your post content.Page URLThe URL of the post page.  Your post page's URL. Let search engines index your forum's postsIndicates to search engines whether or not they should crawl and index the post. Enabled: <meta name=”robots” content=”index”>Disabled: <meta name=”robots” content=”noindex”>All posts are indexed by default unless you choose not to let search engines index them.og:titleThe description of your post when it's shared on social networks. <meta property=”og:title” content=” “/>The default is your current Title Tag.og:description The description of your post when it's shared on social networks. <meta property=”og:description” content=” “/>The default is your current Meta Description.og:imageThe image that appears when your post is shared on social networks. <meta property=”og:image” content=” “/>The default is your current Post Image. Twitter card sizeThe size of the card that your post information is shared in on Twitter.<meta name=\"twitter:card\" content=\"summary_large_image\">The default card size is Large.twitter:titleThe title of your post when it's shared on Twitter. <meta property=”twitter:title” content=” “/>The default is your current og:title.twitter:descriptionThe description of your post when it's shared on Twitter. <meta property=”twitter:description” content=” “/>The default is your current og:description.twitter:imageThe image that appears when your post is shared on Twitter. <meta property=”twitter:image” content=” “/>The default is your current og:image.Structured data markup for Forum postsThe structured data markup we add to each of your posts is based on Schema.org and Google's recommendations. Your post's markup includes the following settings:\n",
      "Headline: The post's title.  Article Body: The post's content.  Article Section: The post’s category.  Author: The post’s publisher.  Date Published: The post's publish date.  Date Modified: The post's last modified date.  Post URL: The post’s URL.  Image: The forum post’s images’ height, width, alt text and URL.  Publisher: The website/business name defined in General Info settings**.   Logo: Logo as defined in General Info settings.** Important:To get rich results, Google requires that the Publisher (business/site name) and Logo fields be completed. These fields can be edited in your site's General Info Settings.  Note:If you don't complete the Publisher or Logo field, and you're connected to Google Search Console, you may get error emails from Google Search Console indicating that the site is not eligible for rich results due to missing data.\n",
      " Forum categoriesMeta Tag NameDefinitionDefault SettingsTitle TagThe title that appears in the category page's search result. Your category name followed by your site name. {{Category Name | Site Name}}Meta Description The description that appears in the category page's search result. Your category description.Page URL The category's URL that appears in the search result. The URL of your category.Let search engines index your forum categoriesIndicates to search engines whether or not they should crawl and index the category.Enabled: <meta name=”robots” content=”index”>Disabled: <meta name=”robots” content=”noindex”>All categories are indexed by default unless you choose not to let search engines index them.og:titleThe title of your category when it's shared on social networks. <meta property=”og:title” content=” “/>The default is your current Title Tag.og:descriptionThe description of your category when it's shared on social networks. <meta property=”og:description” content=” “/>The default is your current Meta description.og:imageThe image that appears when your category is shared on social networks. <meta property=”og:image” content=” “/>The default is your current Category Image.Twitter card sizeThe size of the card that your category information is shared in on Twitter.<meta name=\"twitter:card\" content=\"summary_large_image\">The default card size is Large.twitter:titleThe description of your category when it's shared on Twitter. <meta property=”twitter:title” content=” “/>The default is your current og:title.twitter:descriptionThe description of your category when it's shared on Twitter. <meta property=”twitter:description” content=” “/>The default is your current og:description.twitter:imageThe image that appears when your category is shared on Twitter. <meta property=”twitter:image” content=” “/>The default is your current og:image.Pro Gallery pagesNameDefinitionDefault SettingsTitle TagThe title that appears in the expanded item's search result. Your item’s title followed by the gallery's page name. {{Gallery Name | Site Name}}Meta DescriptionThe description that appears in the expanded item's search result. Your item's description.Page URLThe expanded item's URL.The item’s expand mode URLhttps://www.your-site-address.com/Page Name/ Item ID Let search engines index your gallery itemsIndicates to search engines whether or not they should crawl and index the gallery item.Enabled: <meta name=”robots” content=”index”>Disabled: <meta name=”robots” content=”noindex”>All gallery items are indexed by default unless you choose not to let search engines index them.og:titleThe gallery item’s title when sharing in social media<meta property=”og:title” content=” “/>The default is your current Title Tag.og:descriptionThe gallery item’s description when sharing in social media<meta property=”og:description” content=” “/>The default is your current Meta Description.og:imageThe gallery item’s image when sharing in social media<meta property=”og:image” content=” “/>The default is your current Gallery Item Image.CanonicalDefines your page's primary URL to search engines.The page the gallery is in.og:urlYour gallery's URL when it is shared on social media.The item’s expand mode URL.Twitter card sizeThe size of the card that your gallery information is shared in on Twitter.<meta name=\"twitter:card\" content=\"summary_large_image\">The default card size is Large.twitter:titleThe title of your gallery when it's shared on Twitter. <meta property=”twitter:title” content=” “/>The default is your current og:title.twitter:descriptionThe description of your gallery when it's shared on Twitter. <meta property=”twitter:description” content=” “/>The default is your current og:description.twitter:imageThe image that appears when your gallery is shared on Twitter. <meta property=”twitter:image” content=” “/>The default is your current og:image.Bookings servicesMeta Tag NameDefinitionDefault SettingsTitle TagThe title that appears in the Bookings services's search resultYour Bookings service's name followed by your site name.{{Service Name | Site Name}}Meta DescriptionThe description that appears in the Bookings service’s search resultYour Bookings service description.Page URLThe expanded item’s URL.The Bookings service page's URLhttps://www.your-site-address.com/service-page/Service NameLet search engines index your servicesIndicates to search engines whether or not they should crawl and index the Bookings service page.Enabled: <meta name=”robots” content=”index”>Disabled: <meta name=”robots” content=”noindex”>All Bookings service pages are indexed by default unless you choose not to let search engines index them.og:titleThe Bookings service's title when sharing in social media.<meta property=”og:title” content=” “/>The default is your current Title Tag.og:descriptionThe Bookings service’s description when sharing in social media.<meta property=”og:description” content=” “/>The default is your current Meta Description.og:imageThe Bookings service’s image when sharing in social media<meta property=”og:image” content=” “/>The default is your current Service Image. Twitter card sizeThe size of the card that your Bookings service information is shared in on Twitter.<meta name=\"twitter:card\" content=\"summary_large_image\">The default card size is Large.twitter:titleThe title of your Bookings service when it's shared on Twitter. <meta property=”twitter:title” content=” “/>The default is your current og:title.twitter:descriptionThe description of your Bookings service when it's shared on Twitter. <meta property=”twitter:description” content=” “/>The default is your current og:description.twitter:imageThe image that appears when your Bookings service is shared on Twitter. <meta property=”twitter:image” content=” “/>The default is your current og:image.CanonicalDefines your page's primary URL to search enginesThe Bookings service page's URLog:urlYour Bookings service page's URL when it is shared on social mediaThe Bookings service page's URLStructured data markup for Bookings Services PagesThe structured data markup we add to each of your Bookings services pages is based on Schema.org and Google's recommendations. Your Booking services pages' markup includes the following settings:\n",
      "Page Type: Service Type. Page Name: Your Booking services page's name.  Page Description: A description of your Bookings services. Provider: Details about the provider of your Bookings services.  Image: Your Booking services page's image's height, width, alt text and URL.  Offers: Details about your Bookings services offers. Event PagesMeta Tag NameDefinitionDefault SettingsTitle TagThe title that appears in the expanded item's search resultYour Event title followed by your site name.{{Event Name | Site Name}}Meta DescriptionThe description that appears in the Event page’s search resultYour Event description. If it doesn’t exist - your event teaser. If neither exist, it will be blank.Page URLThe expanded item’s URL.The Event’s URLhttps://www.your-site-address.com/Page Name/Item IDhttps://www.your-site-address.com/event-details/Event SlugLet search engines index your eventsIndicates to search engines whether or not they should crawl and index the Event Page.Enabled: <meta name=”robots” content=”index”>Disabled: <meta name=”robots” content=”noindex”>All Events Pages are indexed by default unless you choose not to let search engines index them.og:titleThe Event Page’s title when sharing in social media.<meta property=”og:title” content=” “/>The default is your current Title Tag.og:descriptionThe Event Page’s description when sharing in social media.<meta property=”og:description” content=” “/>The default is your current Meta Description.og:imageThe Event Page’s image when sharing in social media<meta property=”og:image” content=” “/>The default is your current Event Image. Twitter card sizeThe size of the card that your Event Page information is shared in on Twitter.<meta name=\"twitter:card\" content=\"summary_large_image\">The default card size is Large.twitter:titleThe title of your Event Page when it's shared on Twitter. <meta property=”twitter:title” content=” “/>The default is your current og:title.twitter:descriptionThe description of your Event Page when it's shared on Twitter. <meta property=”twitter:description” content=” “/>The default is your current og:description.twitter:imageThe image that appears when your Event Page is shared on Twitter. <meta property=”twitter:image” content=” “/>The default is your current og:image.CanonicalDefines your page's primary URL to search enginesThe Event Page URLog:urlYour Event Page URL when it is shared on social mediaThe Event Page URLStructured data markup for Event pagesThe structured data markup we add to each of your event pages is based on Schema.org and Google's recommendations. Your event’s markup includes the following settings:\n",
      "Event Title Event Description - your event description if exists, otherwise your event teaser Event Start Date Event End Date Event Status - Scheduled or Canceled based on the event’s settings. Event Attendance Mode online or offline Event Location including name and address, including link if relevant Highest ticket price Lower ticket price Number of ticket types offered\n",
      "    \n",
      "Details of each ticket: name, price, number of available tickets  Blog postsMeta Tag NameDefinitionDefault SettingsTitle TagThe title that appears in the post’s search result.Your post's title followed by your site name.{{Post Name | Site Name}}Meta DescriptionThe description that appears in the Event page’s search result.The default setting is blank until you enter a description. Enter text to apply the same description to every post page, or use variables to create rules with different values for each post page of your site.Page URLThe URL of the post page.The post's page's URL.https://www.your-site-address.com/post/Post SlugLet search engines index your blog's postsIndicates to search engines whether or not they should crawl and index the post page.Enabled: <meta name=”robots” content=”index”>Disabled: <meta name=”robots” content=”noindex”>All post pages are indexed by default unless you choose not to let search engines index them.og:titleThe post page’s title when sharing in social media<meta property=”og:title” content=” “/>The default is your current Title Tag.og:descriptionThe post page’s description when sharing in social media.<meta property=”og:description” content=” “/>The default is your current Meta Description.og:imageThe post page’s image when sharing in social media.<meta property=”og:image” content=” “/>The default is your current Post Cover Image. Twitter card sizeThe size of the card that your post page's information is shared in on Twitter.<meta name=\"twitter:card\" content=\"summary_large_image\">The default card size is Large.twitter:titleThe title of your post page when it's shared on Twitter. <meta property=”twitter:title” content=” “/>The default is your current og:title.twitter:descriptionThe description of your post page when it's shared on Twitter. <meta property=”twitter:description” content=” “/>The default is your current og:description.twitter:imageThe image that appears when your post is shared on Twitter. <meta property=”twitter:image” content=” “/>The default is your current og:image.CanonicalDefines your page's primary URL to search engines.The post page's URL.og:urlYour post page's URL when it is shared on social media.The post page's URL.og:typeDefines your page’s type to social networks.<meta property=\"og:type\" content=\"article\" />The default tag indicates it is an article.article:authorDefines the post’s author to social networks.The post publisherarticle:published_timeDefines the post’s publish time to social networks.The post’s publish date.article:modified_timeDefines the post’s last modification time to social networks.The post’s last modification date.Structured data markup for Blog postsThe structured data markup we add to each of your blog posts is based on Schema.org and Google's recommendations. There are three markup types for Blog posts:\n",
      "Article (Blog Posting) Markup - This is the default preset markup Article (News Article) Markup Article MarkupSee the settings included in:Article (Blog Posting) Markups\n",
      "Page Type: Blog Posting. Author Name: The blog post author's name.  Author Image: Your author image's height, width, and URL.  Article Section: The category the blog post is in. Date Modified: The date the blog post was last updated.  Date Published: The date the blog post was first published. Headline: The title of the blog post. Description: A description of your blog post. Image: Your blog post image's height, width, and URL.  Publisher: Your site name and logo URL. Article (News Article) Markups\n",
      "Page Type: News Article. Author Name: The blog post author's name.  Author Image: Your author image's height, width, and URL.  Article Section: The category the blog post is in. Date Modified: The date the blog post was last updated.  Date Published: The date the blog post was first published. Headline: The title of the blog post. Description: A description of your blog post. Image: Your blog post image's height, width, and URL.  Publisher: Your site name and logo URL. Article Markups\n",
      "Page Type: Article. Author Name: The blog post author's name.  Author Image: Your author image's height, width, and URL.  Article Section: The category the blog post is in. Date Modified: The date the blog post was last updated.  Date Published: The date the blog post was first published. Headline: The title of the blog post. Description: A description of your blog post. Image: Your blog post image's height, width, and URL.  Publisher: Your site name and logo URL. Blog categoriesMeta Tag NameDefinitionDefault SettingsTitle TagThe title that appears in the category’s search result.Your Category title followed by your site name.{{Category Name | Site Name}}Meta DescriptionThe description that appears in the Category page’s search result.Your Category description.Page URLThe Category page's URLThe Category page's URLhttps://www.your-site-address.com/blog/categories/Category SlugLet search engines index your blog categoriesIndicates to search engines whether or not they should crawl and index the Category Page.Enabled: <meta name=”robots” content=”index”>Disabled: <meta name=”robots” content=”noindex”>All Categories are indexed by default unless you choose not to let search engines index them.og:titleThe Category’s title when sharing in social media<meta property=”og:title” content=” “/>The default is your current Title Tag.og:descriptionThe Category’s description when sharing in social media<meta property=”og:description” content=” “/>The default is your current Meta Description.og:imageThe Category’s image when sharing in social media<meta property=”og:image” content=” “/>The default is your current Category Image. Twitter card sizeThe size of the card that your Category information is shared in on Twitter.<meta name=\"twitter:card\" content=\"summary_large_image\">The default card size is Large.twitter:titleThe title of your Category when it's shared on Twitter. <meta property=”twitter:title” content=” “/>The default is your current og:title.twitter:descriptionThe description of your Category when it's shared on Twitter. <meta property=”twitter:description” content=” “/>The default is your current og:description.twitter:imageThe image that appears when your Category is shared on Twitter. <meta property=”twitter:image” content=” “/>The default is your current og:image.CanonicalDefines your Category page's primary URL to search engines.The Category page's URLog:urlYour Category page's URL when it is shared on social media.The Category page's URLog:typeDefines your Category page’s type to social networks<meta property=\"og:type\" content=\"website\" />The default tag indicates it is a website.Blog tagsMeta Tag NameDefinitionDefault SettingsTitle TagThe title that appears in the tag’s search result.Your Tag name followed by your site name.{{Tag Name | Site Name}}Meta DescriptionThe description that appears in the Tag page’s search result.The default setting is blank until you enter a description. Enter text to apply the same description to every Tag page, or use variables to create rules with different values for each Tag page.Page URLThe Tag URL.The Tag URL.https://www.your-site-address.com//blog/tags/{{Tag Name}}Let search engines index your blog tagsIndicates to search engines whether or not they should crawl and index the Tag page or not.Enabled: <meta name=”robots” content=”index”>Disabled: <meta name=”robots” content=”noindex”>Tag Pages are not indexed by default unless you choose to let search engines index them.og:titleThe Tag Page’s title when it's shared on social media.<meta property=”og:title” content=” “/>The default is your current Title Tag.og:descriptionThe Tag Page’s description when it's shared on social media.<meta property=”og:description” content=” “/>The default is your current Meta Description.og:imageThe Tag Page’s image when it's shared on social media.<meta property=”og:image” content=” “/>By default, there is no image selected. Twitter card sizeThe size of the card that your Tag Page information is shared in on Twitter.<meta name=\"twitter:card\" content=\"summary_large_image\">The default card size is Large.twitter:titleThe title of your Tag Page when it's shared on Twitter. <meta property=”twitter:title” content=” “/>The default is your current og:title.twitter:descriptionThe description of your Tag Page when it's shared on Twitter. <meta property=”twitter:description” content=” “/>The default is your current og:description.twitter:imageThe image that appears when your Tag Page is shared on Twitter. <meta property=”twitter:image” content=” “/>The default is your current og:image.CanonicalDefines your Tag Page's primary URL to search engines.The Tag Page's URLog:urlYour Archive Page's URL when it is shared on social media.The Tag Page's URLog:typeDefines your page’s type to social networks<meta property=\"og:type\" content=\"website\" />The default tag indicates it is a website.og:site_nameDefines the site name for social networksThe site’s nameBlog Archive PagesMeta Tag NameDefinitionDefault SettingsTitle TagThe title that appears in the Archive Page’s search result.The Archived Month Name followed by the Archived Year.{{Archived Month Name | Archived Year}}Meta DescriptionThe description that appears in the Archive Page’s search result.The default setting is blank until you enter a description. Enter text to apply the same description to every Archive Page, or use variables to create rules with different values for each Archive Page.Page URLThe Archive Page's URL.The Archive Page's URL.https://www.your-site-address.com//blog/archive/Archived Month/Archived YearLet search engines index your blog archive pagesIndicates to search engines whether or not they should crawl and index the Archive Page or not.Enabled: <meta name=”robots” content=”index”>Disabled: <meta name=”robots” content=”noindex”>Archived Pages are not indexed by default unless you choose to let search engines index them.og:titleThe Archive Page’s title when it's shared on social media.<meta property=”og:title” content=” “/>The default is your current Title Tag.og:descriptionThe Archive Page’s description when it's shared on social media.<meta property=”og:description” content=” “/>The default is your current Meta Description.og:imageThe Archive Page’s image when it's shared on social media.<meta property=”og:image” content=” “/>By default, there is no image selected. Twitter card sizeThe size of the card that your Archive Page information is shared in on Twitter.<meta name=\"twitter:card\" content=\"summary_large_image\">The default card size is Large.twitter:titleThe title of your Archive Page when it's shared on Twitter. <meta property=”twitter:title” content=” “/>The default is your current og:title.twitter:descriptionThe description of your Archive Page when it's shared on Twitter. <meta property=”twitter:description” content=” “/>The default is your current og:description.twitter:imageThe image that appears when your Archive Page is shared on Twitter. <meta property=”twitter:image” content=” “/>The default is your current og:image.CanonicalDefines your Archive Page's primary URL to search engines.The Archive Page's URLog:urlYour Archive Page's URL when it is shared on social media.The Archive Page's URLog:typeDefines your Archive Page’s type to social networks<meta property=\"og:type\" content=\"website\" />The default tag indicates it is a website.og:site_nameDefines the site name for social networksThe site’s nameOnline ProgramsMeta Tag NameDefinitionDefault SettingsTitle TagThe title that appears in the search result.Your Online Program name followed by your site name.{{Online Program Name | Site Name}}Meta DescriptionThe description that appears in the Online Program page’s search result.The default setting is blank until you enter a description. Enter text to apply the same description to every Online Program page, or use variables to create rules with different values for each page.Page URLThe Online Program URLThe Online Program URLhttps://www.your-site-address.com/online-program-page/{{Online Program ID}}Let search engines index your programsIndicates to search engines whether or not they should crawl and index the Online Program.Enabled: <meta name=”robots” content=”index”>Disabled: <meta name=”robots” content=”noindex”>Online Program Pages are indexed by default, unless they are a secret program, and in which case they are not indexed.og:titleThe Online Program page’s title when sharing in social media<meta property=”og:title” content=” “/>The default is your current Title Tag.og:descriptionThe Online Program page’s description when sharing in social media<meta property=”og:description” content=” “/>The default is your current Meta Description.og:imageThe Online Program page’s image when sharing in social media<meta property=”og:image” content=” “/>The default is your current Program Image. Twitter card sizeThe size of the card that your Online Program information is shared in on Twitter.<meta name=\"twitter:card\" content=\"summary_large_image\">The default card size is Large.twitter:titleThe title of your Online Program when it's shared on Twitter. <meta property=”twitter:title” content=” “/>The default is your current og:title.twitter:descriptionThe description of your Online Program when it's shared on Twitter. <meta property=”twitter:description” content=” “/>The default is your current og:description.twitter:imageThe image that appears when your Online Program is shared on Twitter. <meta property=”twitter:image” content=” “/>The default is your current og:image.CanonicalDefines your page's primary URL to search enginesThe Online Program URLog:urlYour Online Program URL when it is shared on social mediaThe Online Program URLog:typeDefines your page’s type to social networks<meta property=\"og:type\" content=\"website\" />The default tag indicates it is a websiteog:site_nameDefines the site name for social networksThe site’s namePortfolio projectsMeta Tag NameDefinitionDefault SettingsTitle tagThe title that appears in the search result.Your project name followed by your site name.For example, {{Project Name | Site Name}}Meta descriptionThe description that appears in the project page’s search result.Your project's excerpt.Page URLThe project page's URL.The project's URL.Let search engines index your portfolio projectsIndicates to search engines whether or not they should crawl and index the project.Enabled: <meta name=”robots” content=”index”>Disabled: <meta name=”robots” content=”noindex”>Portfolio project pages are indexed by default.og:titleThe project's title when sharing in social media<meta property=”og:title” content=” “/>The default is your current Title Tag.og:descriptionThe project page’s description when sharing in social media<meta property=”og:description” content=” “/>The default is your current Meta Description.og:imageThe project page’s image when sharing in social media<meta property=”og:image” content=” “/>The default is the cover image of your project. Twitter card sizeThe size of the card that your project information is shared in on Twitter.<meta name=\"twitter:card\" content=\"summary_large_image\">The default card size is Large.twitter:titleThe title of your Portfolio project when it's shared on Twitter. <meta property=”twitter:title” content=” “/>The default is your current og:title.twitter:descriptionThe description of your Portfolio project when it's shared on Twitter. <meta property=”twitter:description” content=” “/>The default is your current og:description.twitter:imageThe image that appears when your Portfolio project is shared on Twitter. <meta property=”twitter:image” content=” “/>The default is your current og:image.Structured data markup for Portfolio project pagesThe structured data markup we add to each of your Portfolio project pages is based on Schema.org and Google's recommendations. Your project's Image markup helps search engines understand that your page include images so they can be added to the image search engine.Portfolio collectionsMeta Tag NameDefinitionDefault SettingsTitle tagThe title that appears in the search result.Your collection's name.For example, {{Collection Name}}Meta descriptionThe description that appears in the collection page’s search result.Your collection's excerpt.Page URLThe collection page's URL.The collection's URL.Let search engines index your portfolio collectionsIndicates to search engines whether or not they should crawl and index the collection .Enabled: <meta name=”robots” content=”index”>Disabled: <meta name=”robots” content=”noindex”>Portfolio collection pages are indexed by default.og:titleThe collection's title when sharing in social media<meta property=”og:title” content=” “/>The default is your current Title Tag.og:descriptionThe collection page’s description when sharing in social media<meta property=”og:description” content=” “/>The default is your current Meta Description.og:imageThe collection page’s image when sharing in social media<meta property=”og:image” content=” “/>The default is the cover image of your collection . Twitter card sizeThe size of the card that your collection information is shared in on Twitter.<meta name=\"twitter:card\" content=\"summary_large_image\">The default card size is Large.twitter:titleThe title of your Portfolio collection when it's shared on Twitter. <meta property=”twitter:title” content=” “/>The default is your current og:title.twitter:descriptionThe description of your Portfolio collection when it's shared on Twitter. <meta property=”twitter:description” content=” “/>The default is your current og:description.twitter:imageThe image that appears when your Portfolio collection is shared on Twitter. <meta property=”twitter:image” content=” “/>The default is your current og:image.CanonicalDefines your page's primary URL to search enginesThe collection's URLStructured data markup for Portfolio collection pagesThe structured data markup we add to each of your Portfolio collection pages is based on Schema.org and Google's recommendations. Your collection's Image markup helps search engines understand that your page include images so they can be added to the image search engine.Group pagesMeta Tag NameDefinitionDefault SettingsTitle tagThe title that appears in the search result.The group's tab label and group name followed by your site name.For example, {{Tab Label - Group Name | Site Name}}Meta descriptionThe description that appears in the group page’s search result.Your group's description.Page URLThe group page's URL.The group's URL.Let search engines index your group pagesIndicates to search engines whether or not they should crawl and index the group page.Enabled: <meta name=”robots” content=”index”>Disabled: <meta name=”robots” content=”noindex”>Group pages are indexed by default.og:titleThe group's title when sharing in social media<meta property=”og:title” content=” “/>The default is your current Title Tag.og:descriptionThe group’s description when sharing in social media<meta property=”og:description” content=” “/>The default is your current Meta Description.og:imageThe group's image when sharing in social media<meta property=”og:image” content=” “/>The default is the cover image of your group. Twitter card sizeThe size of the card that your group information is shared in on Twitter.<meta name=\"twitter:card\" content=\"summary_large_image\">The default card size is Large.twitter:titleThe title of your group when it's shared on Twitter. <meta property=”twitter:title” content=” “/>The default is your current og:title.twitter:descriptionThe description of your group when it's shared on Twitter. <meta property=”twitter:description” content=” “/>The default is your current og:description.twitter:imageThe image that appears when your group is shared on Twitter. <meta property=”twitter:image” content=” “/>The default is your current og:image.Group postsMeta Tag NameDefinitionDefault SettingsTitle tagThe title that appears in the search result.The first 60 characters of your post followed by the group name and your site name.For example, {{Short Group Post - Group Name | Site Name}}Meta descriptionThe description that appears in the group post's search result.The first 200 characters of your post (using the Long Group Post variable). Page URLThe group post's URL.The group post's URL.Let search engines index your group postsIndicates to search engines whether or not they should crawl and index the group posts.Enabled: <meta name=”robots” content=”index”>Disabled: <meta name=”robots” content=”noindex”>Group posts are indexed by default.og:titleThe post's title when sharing in social media<meta property=”og:title” content=” “/>The default is the first 60 characters of the post (using the Short Group Post variable).og:descriptionThe post's description when sharing in social media<meta property=”og:description” content=” “/>The default is the first 200 characters of the post (using the Long Group Post variable).og:imageThe post's image when sharing in social media<meta property=”og:image” content=” “/>The default is the cover image of your post. Twitter card sizeThe size of the card that your post is shared in on Twitter.<meta name=\"twitter:card\" content=\"summary_large_image\">The default card size is Large.twitter:titleThe title of your post when it's shared on Twitter. <meta property=”twitter:title” content=” “/>The default is your current og:title.twitter:descriptionThe description of your post when it's shared on Twitter. <meta property=”twitter:description” content=” “/>The default is your current og:description.twitter:imageThe image that appears when your post is shared on Twitter. <meta property=”twitter:image” content=” “/>The default is your current og:image.Members Profile PageMeta Tag NameDefinitionDefault SettingsTitle tagThe title that appears in the profile page's search result.Your member profile's name followed by your site name.\n",
      "{{Page Name | Site Name}}Meta descriptionThe description that appears in the profile’s search result.The default setting is blank until you enter a description. Enter text to apply the same description to every profile page, or use variables to create rules with different values for each post page of your site.Page URLThe URL that leads to the specific member’s profile page.The member profile page's URL\n",
      "https://www.your-site-address.com/members-area/{{user’s name}/profileLet search engines index your profile pagesIndicates to search engines whether or not they should crawl and index the member profile page.Disabled: <meta name=”robots” content=”noindex”>As it is best practice not to index these pages, all member profile pages are set to noindex by default.og:titleThe profile page's title when sharing on social media<meta property=”og:title” content=” “/>The default is your current Title Tag.og:descriptionThe profile page's description when sharing on social media<meta property=”og:description” content=” “/>The default is your current Meta Description.og:imageThe profile page's image when sharing on social media<meta property=”og:image” content=” “/>The default is not empty. As the members area profile page has no images, any image you select will appear as the og:image for all profile pages. Twitter card sizeThe size of the card that your member profile information is shared in on Twitter.<meta name=\"twitter:card\" content=\"summary_small_image\">The default card size is Small.twitter:titleThe title of your member profile when it's shared on Twitter. <meta property=”twitter:title” content=” “/>The default is your current og:title.twitter:descriptionThe description of your member profile when it's shared on Twitter. <meta property=”twitter:description” content=” “/>The default is your current og:description.twitter:imageThe image that appears when your member profile is shared on Twitter. <meta property=”twitter:image” content=” “/>The default is your current og:image.CanonicalDefines your page's primary URL to search engines.The profile page's URLog:urlYour member profile page's URL when it is shared on social media.The profile page's URLLocal Business structured data markupWhen you add a business name and location to your account, Wix automatically creates Local Business markup for your site's homepage. Local Business markup lets you give search engines information about your business. Learn more about Local Business markupThe Local Business markup that Wix adds to your homepage is based on Schema.org and Google's recommendations. Your Local Business markup includes the following settings:\n",
      "Name: Your business's name as it appears in the Profile section of your site's Business Info URL: Your site's URL Image: The logo you added in your site's Business Info Address: Your address as appears in your site's Location & Contact Info section of your site's Business InfoWix Site SearchWix also automatically adds Sitelinks search box structured data markup to your site's pages when you add the Wix Site Search app to your site. Google uses this markup to add a search box when your pages appear as search results. People can search your site directly using this search box without having to visit your site. Learn more about Wix Site Search\n"
     ]
    }
   ],
   "source": [
    "for content in kb_ds[\"train\"][\"contents\"]:\n",
    "    if len(content) == mx:\n",
    "        print(content) "
   ]
  },
  {
   "cell_type": "code",
   "execution_count": 16,
   "id": "ec3ceed0",
   "metadata": {},
   "outputs": [
    {
     "name": "stdout",
     "output_type": "stream",
     "text": [
      "Wix Events: About the Event Details and Registration Form Pages\n",
      "Guests visiting your site view the events you offer on the Events List page. From there they can learn more on the Events Details page (if enabled) and  complete the booking on the Registration Form Page. You can customize how these pages look to suit your events.Tips:\n",
      "Customizations you make to the Events Details page and the Registration Form page (e.g. changing colors and fonts, hiding page elements) affect these page for all events.   If your site only has events without tickets, you have the option of disabling the Event Details Page.Events Details PageSite visitors who click to register for an event are first directed to the Event Details page (unless you hid the page). There, guests can receive more complete information about the event. You can customize the page to show or hide various elements, such as a map to the event location and an \"About the Event\" description.Events without ticketsEvents without tickets display information and an \"RSVP\" button. If your site only has events without tickets, you have the option of disabling the Event Details Page.Show me howWhen you disable the Event Details page, guests who click to register for an event are directed straight to the Registration Page.\n",
      "Click any of the Wix Events pages in the Editor. Click the Settings icon . Click the Pages tab. Click the Show this page when visitors register toggle to disable it.\n",
      "Events with ticketsFor events with tickets, the Event Details Page includes a ticket section, in addition to information about the location, time, and so on. Here, guests can select how many tickets they want to purchase and view a price breakdown. If your business offers membership plans, you can display the plan for guests to purchase.Note:To edit the event name, location, subtitle, \"About the Event\" description, go to the Events tab in your site dashboard and edit the event.Registration Form PageAfter clicking the RSVP button (for non-ticketed events) or Checkout (for events with tickets), guests are directed to the Registration Form Page.There, guests fill in the names and email addresses. In the case of events with tickets, guest also complete payment. Schedule PageYou can optionally create a schedule page to let guests know exactly what is happening at your event. The first 2 sessions are displayed. Guests can click \"See All\" to view the complete schedule. \n",
      "\n",
      "\n",
      "Wix Restaurants Request: Changing the Alignment of Your Menus\n",
      "Currently, it is not possible to change the alignment of your restaurant menu (e.g., right-to-left), for either the Menus app or the Orders app.We are always working to update and improve our products, and your feedback is greatly appreciated.\n",
      "\n",
      "\n",
      "Accessing and Reviewing Data From Your Wix Account and Sites\n",
      "Most of your data is accessible directly from your Wix account. This includes information about sites in your account, premium services, and personal information, such as your address and billing information.Account informationClick to view instructions on how to access your account information.Account settingsTo access your account settings:\n",
      "Sign in to your Wix account.  Hover over the user panel and click Account Settings.\n",
      "All sitesThis section includes all the current sites in your Wix account. Sign in to your Wix account to review your sites.\n",
      "Tip: For Wix Studio users, switch between workspaces to locate the relevant site. Chats, messages and other activity from your site visitorsIn your Wix account you can review chats, form submissions, bookings, and all other activity from your site visitors. To review your visitor activity:\n",
      "Sign in to your Wix account.  Click Select Site on the site you wish to review. Click the Inbox icon  at the top right.DomainsIn your Wix account you can review and manage all your domains that are managed through Wix. Go to Domains to review your domains. Business emailIn your Wix account you can review and manage all your personalized business email accounts. Go to Business Email to see your business email accounts.Premium and Studio site plansGo to Premium Subscriptions view your Wix site plans.InvoicesYou can review and download all of your Wix invoices directly from your Wix account.\n",
      "\n",
      "To review your invoices for Wix services:\n",
      "Go to Billing History in your Wix account. Click the filters or use the search field to search for an invoice. Click the More actions icon  next to the relevant service. Click View Invoice.Premium SubscriptionsGo to Premium Subscriptions to view all premium subscriptions purchased through Wix, including premium apps, logos, and more.MediaYou can review and manage all of the media that you've uploaded to your account. Select an option below to view your media:\n",
      "\n",
      "Images:\n",
      "Image files: Images that you uploaded to your site. Secure images files: Images that you uploaded for apps using secure servers (e.g. Wix Art Store, Wix Photo Albums) Wix Video cover images: Images that you used as covers in Wix Video.\n",
      "Music:\n",
      "Music files: Music files that you uploaded to your site (e.g. MP3 files). Wix Music tracks: Music files that you uploaded to Wix Music.\n",
      "Video:\n",
      "Background videos: Videos that you uploaded for your site background.  Wix Video files: Videos that you uploaded in Wix Video. Wix Video cover videos: Videos that you used as covers in Wix Video.\n",
      "Other:\n",
      "Flash files: Files that you uploaded in SWF format. Shape files: Shapes that you uploaded to your site. Document files: Documents that you uploaded to your site (e.g. PDF or DOC files). Secure document files: Documents that you uploaded in apps using secure servers (e.g. Wix Art Store). Font files: Fonts that you uploaded to your site. Archive files: Files that you archived. Secure archive files: Files that you archived in an app using a secure server (e.g. Wix Art Store).Site informationMost of your site information can be accessed directly from your Wix account, such as your online store products, business location, employee information, etc. Click to view features and apps that are accessible from your Wix site\n",
      "Chats with your site visitors Site contacts Site properties Invoices generated for your customers Wix Stores Wix Inbox  Bookings Restaurants Hotels Blog Forum Photo Album Pro Gallery Art Store Analytics and Insights Wix Marketplace Media manager Wix Music  Wix Video Marketing Integrations Velo by Wix Wix Mobile Apps Wix Email Marketing General Info  Apps made by Wix Third Party Apps And more!Third party appsEach app is unique and can be set up differently. Your information might be located in a different location, depending on the app. For example, some apps have a dashboard with your information, while other apps have a Settings panel in your editor. Note:To retrieve data from third party apps, contact the app owner directly.Click to view instructions on accessing your apps:Dashboard apps\n",
      "Sign in to your Wix account. Go the dashboard of the relevant site. Select the app you wish to view.Editor apps\n",
      "Go to your site editor. Navigate to the page with the relevant app.  Select the app in your editor and then click Settings. \n",
      "\n",
      "\n",
      "Adding Pinterest Content to Your Site\n",
      " The Wix Pinterest Feed app has been removed from the Wix App Market. However you can still add content from Pinterest to your site in 2 ways; you can embed a Pinterest widget, or add the Social Media Feed app to your site and set it to display your Pinterest content.In this article, learn how to: \n",
      "Embed a Pinterest widget  Add the Social Media Feed appEmbedding a Pinterest widgetPinterest offers a few different widgets which you can embed onto your site. You'll need to generate the code directly from Pinterest and then come back to Wix and embed the code using our HTML element.Before you begin:Click the links below to find out how to generate code for the widget you want to add:\n",
      "Pinterest Board Pinterest Pin Pinterest Profile Pinterest Follow button Pinterest Save buttonNote: You need to copy both sets of code. The last piece of code needs to be added to the end of the first piece of code before the closing tag. Once you have the code ready, embed it as described below.Wix EditorStudio Editor\n",
      "Click Add Elements  on the left side of the Editor. Click Embed Code. Click Embed HTML.\n",
      "Click Enter Code. Make sure Code is selected under What do you want to add?. Paste the code you copied from step 1 into the Add your code here (HTTPS only) field.  Click Apply.  (Optional) Enter alt text that describes what you're embedding in the What's in the embed? Tell Google field.  When ready, publish your site.\n",
      "Click Add Elements  on the left side of the editor. Click Embed & Social. Click Embed Code. Click Add to Site next to Embed Code.\n",
      "Click Enter Code. Make sure Code is selected under What do you want to add?. Paste the code you copied from step 1 into the Add your code here (HTTPS only) field.  Click Apply.  (Optional) Enter alt text that describes what you're embedding in the What's in the embed? Tell Google field.  When ready, publish your site.Adding the Social Media Feed appThe Social Media Feed app is a third-party app which allows you to add your Pinterest URL and display a live feed of all your Pinterest content. You can add the Social Media Feed app directly from the Wix App Market. \n",
      "\n",
      "\n",
      "ADI: Customizing Your Site's Colors\n",
      "ADI has put together many complementary color palettes for you to choose from, making it even easier to design your site. You can customize the palettes and even create your own.Note:When you add a logo to your site, ADI extracts the main colors and creates a special palette you can use. In this article, learn more about:\n",
      "Changing your color palette Changing the main color in your palette Customizing your color settings Creating your own color paletteChanging your color paletteChange your site's color palette in just one click.To change your color palette:\n",
      "Click Design on the top bar inside ADI. Select Colors.  Select a new color palette.Changing the main color in your paletteChange the main color of your site and generate a new list of recommended color palettes.To change the main color in your palette:\n",
      "Click Design on the top bar inside ADI. Select Colors.  Click the Design icon  in the Main Color box at the top.  Choose one of the suggested colors, or click the Add icon  to choose a custom color. Customizing your color settingsCustomize your site colors further, by controlling the strength of color used (Coloration Level), as well as the palette's color mode.To customize your color mode and coloration level: \n",
      "Click Edit under Color Mode. Customize your color settings:\n",
      "    \n",
      "Mode: Choose how dark or light your site's background colors are (Light, Dark or Mix). Coloration Level: Define how colorful you want your site to be (Plain, Tinted, Colorful or Vibrant).  Creating your own color paletteCreate your own color story for your site by designing a custom color palette.To create your own color palette:\n",
      "Click Design on the top bar inside ADI. Click Colors.  Click Edit Palette Colors.  Click the Design icon  on the color you wish to change. Choose the new color.  Click Apply. Note:ADI color palettes are carefully crafted to compliment the site design and each other. When you change the main color in the palette, ADI suggests palette combinations that suit your new main color. Tip:If the color contrast between your text color and ADI elements is too low, ADI will suggest that you adjust your palette colors. Click Adjust Colors at the bottom of the Palette Colors panel and ADI will automatically change the problematic color to a more suitable one.\n",
      "\n",
      "\n",
      "\n",
      "ADI Request: Uploading Your Fonts to ADI\n",
      "Currently, you cannot upload your own fonts to ADI.If you want to upload your own fonts, you need to head to the Editor and follow the instructions here. \n",
      "\n",
      "\n",
      "Connecting or Transferring a Domain Purchased Elsewhere to Your Wix Account\n",
      "You can connect your domain to your Wix site, even if the domain was purchased outside of Wix and remains hosted elsewhere. If you prefer to manage the domain registration and payments at Wix, you can transfer your domain to Wix. Learn more about transferring vs connecting your domain to Wix to find out which is best for you. Important:\n",
      "You must first upgrade your site to connect or transfer a domain. You'll need access to your current domain registrar before you connect or transfer a domain. The registrar is the company that hosts your domain. If you don't know who your domain registrar is, you can find out by visiting whois.com and entering your domain name to see your domain details. Connecting a domain to your siteConnecting your domain to Wix (also known as “domain mapping”) means that the domain management stays with your current domain host, but the URL of your domain connects to your Wix site. When people type your domain's web address (e.g. www.mywebsite.com) they are brought to your Wix site. There are two ways in which you can connect your domain to Wix - via name servers or via pointing. The method you use to connect your domain determines where the DNS records of your domain are hosted. DNS (Domain Name System) records tell your domain where to go to load your website. If you want to connect a domain you already own to your Wix account, we strongly recommend you do so by changing its name servers.Name servers vs. pointing:Learn more about the differences between connecting your domain by name servers vs. pointing.Connecting via nameservers (recommended method)With the name server connection method, Wix hosts your DNS records, while your domain remains registered with its current host. This means you continue to pay for domain registration with your current domain host (not Wix). Follow our steps to connect your domain to the Wix name servers.If you'd like, you can transfer your domain to Wix to host your domain with us. You would then pay Wix for the domain's registration. Connecting via pointingBy connecting via the pointing method, your DNS records are hosted outside of Wix. We do not recommend pointing because we're unable to assist you with issues that may arise in another DNS host's account. However, if your domain has complicated DNS records that you prefer not to reconfigure, pointing may be your best option. Learn how to connect your domain via the pointing method. Transferring a domain to WixIf you’ve already purchased a domain from another provider, you can transfer the domain from its current registrar to Wix. This allows you manage your domain's registration, payments, contact info, and DNS records at Wix. Before transferring, make sure your domain is eligible to be transferred. Tip:Most yearly Premium and Studio plans offer a 1 year free domain voucher. You can use the voucher to claim a new domain, or get 1 year of free registration when you transfer your domain to Wix.Connecting secondary domains to your siteYour primary domain is usually the domain name you choose when you first purchase your domain from Wix. You can choose a different domain as your primary domain, but you can only have one primary domain.Secondary domains redirect to your primary domain. You can easily connect an unlimited number of secondary domains to a single Wix site. If you're connecting an additional domain that was purchased elsewhere, first connect the domain in your account. Once connected, set up the domain to redirect to your primary domain. Learn more about connecting multiple domains to your Wix site.Connecting subdomains to your siteA subdomain is a prefix that appears before your primary or root domain. For example, \"shop.mysite.com\" is a subdomain of the root domain \"mysite.com\".  You can connect subdomains in your Wix account. For example, if you own the root domain mystunningwebsite.com, you can connect blog.mystunningwebsite.com to your blog website. Read our subdomains overview for more information. Learn how to connect a subdomain to your primary domain.What's next?Make it easier for people to contact you. Get a personalized business email for your custom domain through our partnership with Google Workspace.FAQsClick below for answers to common questions about connecting vs transferring domains. How long does it take for my domain connection to become active? After connecting your domain, these new records can take up to 48 hours to propagate. During this time, you may notice your site not loading, loading inconsistently, or loading a message which says 'Not Secure'. Learn more about domain propagation. Domain transfers can take up to 7 days, which is why we recommend connecting your domain before transferring it to Wix. If I connect my domain to Wix via name servers, where are my billing and contact details for my domain hosted?Billing and contact details are managed at your current domain host, not at Wix. Contact your existing domain host for assistance with domain renewals, contact information, and other domain-related billing inquiries.Can I switch to a different connection method even if I've already started connecting my domain? Yes. You can change the connection method for your domain at any time by removing and re-adding the domain to your Wix account. Learn more about switching your domain connection method. \n",
      "\n",
      "\n",
      "Google Workspace: Setting Up Additional Workspace Users from Wix\n",
      "Manage your incoming emails by setting up additional business email addresses for different parts of your company.If you own a company called Clothes by Wix, for example, and have the domain name clothesbywix.com, you can create more business emails for the different departments:  info@clothesbywix.com, contact@clothesbywix.com, orders@clothesbywix.com, etc. In this article, learn more about:\n",
      "Setting up additional business emails Frequently asked questions (FAQs)Note:In order to set up additional Google Workspace business emails you must first purchase additional business emails. Setting up additional business emails\n",
      "Go to Business Email in your account. Click Show User Info on the relevant account Click the More Actions icon   next to the account you want to set up   Select Set Up User. Sign in to your Google Workspace account: \n",
      "    \n",
      "Enter your email address. Click Next. Enter your password.   Click Users. Click Add new user. Enter the user details and set a password (optional). Click Add.What's next?It can take up to 24 hours for Google Workspace services to be available to the new user. If the user attempts to use a service that's not yet available, they'll see a message that they don't have access to it.FAQsWe are here to help with all your questions. Click a question below to learn more:How will I be billed for any additional business emails I purchase?When purchasing an additional business email, you are billed immediately and the renewal occurs on the same date as your existing, original business email subscription. The initial charge covers the period from when you add the additional business email up to the renewal date of the original business email subscription.Can I purchase as many business emails as I want for a domain?There is a limit of 300 business emails. Additionally, there is a limit of 20 emails purchased per transaction.\n",
      "\n",
      "\n",
      "Marking Rooms as 'Not Available' in Wix Hotels\n",
      "Quickly and easily block availability on your reservation calendar. This is a useful feature if the room is closed for renovations, if it was booked through another channel, or if your hotel is closed temporarily.Important:\n",
      "This article refers to the original Wix Hotels. If you are using the new Wix Hotels by HotelRunner, which is not yet available to all users, please read the information here. Learn how to check which version of Wix Hotels you are using.  If you are using the channel manager, dates marked as unavailable will not reduce the availability on your connected channels. Instead of setting dates as not available, please use manual reservations to block your calendar if you want to also use the channel manager.To mark a room as 'Not Available':Go to your dashboard.Click the Hotels tab.Click the Reservations tab.Click the start date on the calendar for the relevant room.Drag your mouse across and click the end date.Click Set as not available.(Optional) Add a note for yourself.Click Save.Note: Alternatively, you can mark a room as 'Not Available' by clicking Create New on the reservation calendar, filling out the requested information, and clicking Save.Note:Your unavailable room is grayed out on your reservation calendar.To unblock a room, hover over the grayed out area on your reservation calendar and click Unblock.\n",
      "\n",
      "\n",
      "Pricing Plans: Making Site Pages Members-Only\n",
      "Want to offer your subscribers access to exclusive content? Just connect your pricing plans to your members-only pages to set up a paywall. Before you begin:\n",
      "Add the Pricing Plans app. Add a Members Area. Create the plans you want to offer on your site.Learn more about creating and managing your site member roles. To make a site page members-only:Wix EditorStudio Editor\n",
      "Go to your editor. Click Pages & Menu  on the left side of the editor. Hover over the relevant page and click the More Actions icon .\n",
      "Tip: Make sure you don't restrict the main (original) Pricing Plans page. You can, however, restrict other pages where you display plans. You can also hide the main page. Click Settings.  Click Permissions.  Click Site members. Select Specific members.   Click the Members with plan subscriptions toggle to enable it.  Click Manage Plans.  Select the checkbox next to the relevant pricing plans. Click Apply.\n",
      "Go to your editor. Click Pages  on the left side of the editor. Hover over the relevant page and click the More Actions icon .\n",
      "Tip: Make sure you don't restrict the main (original) Pricing Plans page. You can, however, restrict other pages where you display plans. You can also hide the main page. Click Settings.  Click Permissions.  Click Members only. Select Specific members.   Click the Members with plan subscriptions toggle to enable it. Click Manage Plans. Select the checkbox next to the relevant pricing plans. Click Apply.\n",
      "\n",
      "\n"
     ]
    }
   ],
   "source": [
    "for i in range(10):\n",
    "    print(kb_ds[\"train\"][i][\"contents\"])\n",
    "    print(\"\\n\")"
   ]
  },
  {
   "cell_type": "code",
   "execution_count": 19,
   "id": "c4a41554",
   "metadata": {},
   "outputs": [
    {
     "data": {
      "text/plain": [
       "True"
      ]
     },
     "execution_count": 19,
     "metadata": {},
     "output_type": "execute_result"
    }
   ],
   "source": [
    "import dotenv\n",
    "dotenv.load_dotenv()"
   ]
  },
  {
   "cell_type": "code",
   "execution_count": 22,
   "id": "a634d0c6",
   "metadata": {},
   "outputs": [],
   "source": [
    "from langchain_openai import ChatOpenAI\n",
    "\n",
    "model = ChatOpenAI(model=\"gpt-4o\")"
   ]
  },
  {
   "cell_type": "code",
   "execution_count": 23,
   "id": "e100edd3",
   "metadata": {},
   "outputs": [
    {
     "data": {
      "text/plain": [
       "AIMessage(content='Hello! How can I assist you today?', additional_kwargs={'refusal': None}, response_metadata={'token_usage': {'completion_tokens': 9, 'prompt_tokens': 8, 'total_tokens': 17, 'completion_tokens_details': {'accepted_prediction_tokens': 0, 'audio_tokens': 0, 'reasoning_tokens': 0, 'rejected_prediction_tokens': 0}, 'prompt_tokens_details': {'audio_tokens': 0, 'cached_tokens': 0}}, 'model_name': 'gpt-4o-2024-08-06', 'system_fingerprint': 'fp_07871e2ad8', 'id': 'chatcmpl-Bui2at3IgMGTsCADEH1ML60r9j825', 'service_tier': 'default', 'finish_reason': 'stop', 'logprobs': None}, id='run--5fd59912-b55a-4f2b-bd47-34b1ef99c12d-0', usage_metadata={'input_tokens': 8, 'output_tokens': 9, 'total_tokens': 17, 'input_token_details': {'audio': 0, 'cache_read': 0}, 'output_token_details': {'audio': 0, 'reasoning': 0}})"
      ]
     },
     "execution_count": 23,
     "metadata": {},
     "output_type": "execute_result"
    }
   ],
   "source": [
    "model.invoke(\"Hello\")"
   ]
  },
  {
   "cell_type": "code",
   "execution_count": 25,
   "id": "eb9ebfc9",
   "metadata": {},
   "outputs": [],
   "source": [
    "SUMMARIZER_SYSTEM_PROMPT = \"\"\"\n",
    "You are a helpful assistant tasked with summarizing internal company documents for a customer support chatbot.\n",
    "\n",
    "Your goal is to write a summary that captures the core intent and important details of the document, but specifically optimized for customer support use cases. The summary should reflect what real customer questions the document could help answer.\n",
    "\n",
    "\n",
    "\n",
    "Guidelines:\n",
    "\n",
    "Prioritize information that is relevant to common user concerns, tasks, or questions.\n",
    "\n",
    "Capture the full scope and meaning of the document without losing key details.\n",
    "\n",
    "Your summary should have high semantic overlap with the kinds of questions users might ask.\n",
    "\n",
    "You are not just summarizing — you are anticipating user intent and summarizing accordingly.\n",
    "\n",
    "Avoid generic or overly abstract phrasing. Be specific and actionable.\n",
    "\n",
    "The output should be concise yet comprehensive enough to support retrieval and grounding for question answering.\n",
    "\n",
    "Output the summary as a short paragraph or a list of key points (depending on content). Be accurate, clear, and helpful.\n",
    "\"\"\""
   ]
  },
  {
   "cell_type": "code",
   "execution_count": 26,
   "id": "876fdb62",
   "metadata": {},
   "outputs": [
    {
     "data": {
      "text/plain": [
       "{'question': 'Can I start accepting payments on my site while my Wix Payments account is still under verification?',\n",
       " 'answer': 'You can start accepting payments on your site using [Wix Payments](https://support.wix.com/en/article/about-wix-payments) almost immediately. However, we need to verify your identity before your account can be fully activated.',\n",
       " 'article_ids': ['49d9e88fadbf11fa4e685c847590078ff9394c2fe7566094f504f53ca4aca465']}"
      ]
     },
     "execution_count": 26,
     "metadata": {},
     "output_type": "execute_result"
    }
   ],
   "source": [
    "expert_ds[\"train\"][0]"
   ]
  },
  {
   "cell_type": "code",
   "execution_count": 27,
   "id": "4d1a4568",
   "metadata": {},
   "outputs": [],
   "source": [
    "id = '49d9e88fadbf11fa4e685c847590078ff9394c2fe7566094f504f53ca4aca465'"
   ]
  },
  {
   "cell_type": "code",
   "execution_count": null,
   "id": "2fd5c5c1",
   "metadata": {},
   "outputs": [
    {
     "data": {
      "text/plain": [
       "{'id': '860475a2cbc65c226ecf08729d0430584e46f35f23a3e10bb5500c2c4ad09168',\n",
       " 'url': 'https://support.wix.com/en/article/wix-events-about-the-event-details-and-registration-form-pages',\n",
       " 'contents': 'Wix Events: About the Event Details and Registration Form Pages\\nGuests visiting your site view the events you offer on the Events List page. From there they can learn more on the Events Details page (if enabled) and \\xa0complete the booking on the Registration Form Page.\\xa0You can customize how these pages look to suit your events.Tips:\\nCustomizations you make to the Events Details page and the Registration Form page (e.g. changing colors and fonts, hiding page elements) affect these page for all events. \\xa0 If your site only has events without tickets, you have the option of disabling the Event Details Page.Events Details PageSite visitors who click to register for an event are first directed to the Event Details page (unless you hid the page). There, guests can receive more complete information about the event. You can customize the page to show or hide various elements, such as a map to the event location and an \"About the Event\" description.Events without ticketsEvents without tickets display information and an \"RSVP\" button.\\xa0If your site only has events without tickets, you have the option of disabling the Event Details Page.Show me howWhen you disable the Event Details page, guests who click to register for an event are directed straight to the Registration Page.\\nClick any of the Wix Events pages in the Editor. Click the Settings icon . Click the Pages tab. Click the Show this page when visitors register toggle to disable it.\\nEvents with ticketsFor events with tickets, the Event Details Page includes a ticket section, in addition to information about the location, time, and so on.\\xa0Here, guests can select how many tickets they want to purchase and view a price breakdown. If your business offers membership plans, you can display the plan for guests to purchase.Note:To edit the event name, location, subtitle, \"About the Event\" description, go to the Events tab in your site dashboard and edit the event.Registration Form PageAfter clicking the RSVP button (for non-ticketed events) or Checkout (for events with tickets), guests are directed to the Registration Form Page.There, guests fill in the names and email addresses. In the case of events with tickets, guest also complete payment.\\xa0Schedule PageYou can optionally create a schedule page to let guests know exactly what is happening at your event. The first 2 sessions are displayed. Guests can click \"See All\" to view the complete schedule.\\xa0',\n",
       " 'title': 'Wix Events: About the Event Details and Registration Form Pages',\n",
       " 'html_content': '<div data-component-type=\"text\"><div>Guests visiting your site view the events you offer on the Events List page. From there they can learn more on the Events Details page (if enabled) and \\xa0complete the booking on the Registration Form Page.\\xa0</div></div><div data-component-type=\"image\"><div class=\"img-container\" style=\"text-align:center\"><img src=\"https://d2x3xhvgiqkx42.cloudfront.net/12345678-1234-1234-1234-1234567890ab/8769cf44-f342-494c-b25f-cc98c9da3e82/2020/08/26/a5c4ff10-bf39-44dc-acd7-bb993ee1ad16/4fb294c7-9fa3-4939-8b51-7abd645777a3.gif\" /></div></div><div data-component-type=\"text\"><div>You can customize how these pages look to suit your events.</div></div><div data-component-type=\"informative\"><div class=\"info-container\" info-color=\"green\"><div class=\"info-title\">Tips:</div><div class=\"info-content\"><ul>\\n  <li>Customizations you make to the Events Details page and the Registration Form page (e.g. changing colors and fonts, hiding page elements) affect these page for all events. \\xa0</li>  <li>If your site only has events without tickets, you have the option of disabling the Event Details Page.</li></ul></div></div></div><div data-component-type=\"line\"><hr line-style=\"thin\" /></div><div data-component-type=\"heading\"><h2 id=\"events-details-page\" level=\"3\">Events Details Page</h2></div><div data-component-type=\"text\"><div>Site visitors who click to register for an event are first directed to the <strong>Event Details</strong> <strong>page</strong> (unless you hid the page). There, guests can receive more complete information about the event. You can customize the page to show or hide various elements, such as a map to the event location and an &quot;About the Event&quot; description.</div></div><div data-component-type=\"heading\"><h2 id=\"\" level=\"4\">Events without tickets</h2></div><div data-component-type=\"text\"><div>Events without tickets display information and an &quot;RSVP&quot; button.\\xa0</div></div><div data-component-type=\"image\"><div class=\"img-container\" style=\"text-align:center\"><img src=\"https://d2x3xhvgiqkx42.cloudfront.net/12345678-1234-1234-1234-1234567890ab/8769cf44-f342-494c-b25f-cc98c9da3e82/2020/08/26/afc290ac-0a3b-4481-b40c-9c091f66e14d/94418c61-58c4-46db-ab82-0616771a0478.png\" /></div></div><div data-component-type=\"text\"><div>If your site only has events without tickets, you have the option of disabling the Event Details Page.</div></div><div data-component-type=\"collapsible\"><div><h4 class=\"collapsible-title\">Show me how</h4><div class=\"collapsible-content\"><div>When you disable the Event Details page, guests who click to register for an event are directed straight to the Registration Page.</div><ol>\\n  <li>Click any of the Wix Events pages in the Editor.</li>  <li>Click the Settings icon <img data-composite=\"true\" src=\"https://d2x3xhvgiqkx42.cloudfront.net/12345678-1234-1234-1234-1234567890ab/8769cf44-f342-494c-b25f-cc98c9da3e82/2022/06/28/993b5b25-d9e7-4df5-abe8-6d667c3553a8/93b7d612-8c7b-478d-96a2-40048495bb36.png\" />.</li>  <li>Click the <strong>Pages </strong>tab.</li>  <li>Click the <strong>Show this page when visitors register</strong> toggle to disable it.<br />\\n<img data-composite=\"true\" src=\"https://d2x3xhvgiqkx42.cloudfront.net/12345678-1234-1234-1234-1234567890ab/8769cf44-f342-494c-b25f-cc98c9da3e82/2022/06/28/afaa479a-8c07-4ee1-96b0-e564f8c8d126/f33c26df-baf0-41d9-b61d-0297d362976c.png\" /></li></ol></div></div></div><div data-component-type=\"heading\"><h2 id=\"\" level=\"4\">Events with tickets</h2></div><div data-component-type=\"text\"><div>For events with tickets, the Event Details Page includes a ticket section, in addition to information about the location, time, and so on.\\xa0</div></div><div data-component-type=\"text\"><div>Here, guests can select how many tickets they want to purchase and view a price breakdown. If your business offers <a href=\"https://support.wix.com/en/article/wix-events-creating-a-membership-plan\">membership plans</a>, you can display the plan for guests to purchase.</div></div><div data-component-type=\"image\"><div class=\"img-container\" style=\"text-align:center\"><img src=\"https://d2x3xhvgiqkx42.cloudfront.net/12345678-1234-1234-1234-1234567890ab/8769cf44-f342-494c-b25f-cc98c9da3e82/2020/08/19/3e44ad80-a5d0-48a1-afaf-7b08a1ab0f37/5c050e3c-3796-4a6e-83a4-7f55a10ec3d3.png\" /></div></div><div data-component-type=\"informative\"><div class=\"info-container\" info-color=\"blue\"><div class=\"info-title\">Note:</div><div class=\"info-content\"><div>To edit the event name, location, subtitle, &quot;About the Event&quot; description, go to the Events tab in your site dashboard and edit the event.</div></div></div></div><div data-component-type=\"line\"><hr line-style=\"thin\" /></div><div data-component-type=\"heading\"><h2 id=\"registration-form-page\" level=\"3\">Registration Form Page</h2></div><div data-component-type=\"text\"><div>After clicking the RSVP button (for non-ticketed events) or Checkout (for events with tickets), guests are directed to the <strong>Registration Form Page</strong>.</div></div><div data-component-type=\"text\"><div>There, guests fill in the names and email addresses. In the case of events with tickets, guest also complete payment.\\xa0</div></div><div data-component-type=\"image\"><div class=\"img-container\" style=\"text-align:center\"><img src=\"https://d2x3xhvgiqkx42.cloudfront.net/12345678-1234-1234-1234-1234567890ab/8769cf44-f342-494c-b25f-cc98c9da3e82/2020/08/19/7b503185-809a-4ee6-b054-3af2d3640a7d/58699643-ac83-418c-9ffc-2511029c94ab.png\" /></div></div><div data-component-type=\"line\"><hr line-style=\"thin\" /></div><div data-component-type=\"heading\"><h2 id=\"schedule-page\" level=\"3\">Schedule Page</h2></div><div data-component-type=\"text\"><div>You can optionally create a schedule page to let guests know exactly what is happening at your event. The first 2 sessions are displayed. Guests can click &quot;See All&quot; to view the complete schedule.\\xa0</div></div><div data-component-type=\"image\"><div class=\"img-container\" style=\"text-align:center\"><img src=\"https://d2x3xhvgiqkx42.cloudfront.net/12345678-1234-1234-1234-1234567890ab/8769cf44-f342-494c-b25f-cc98c9da3e82/2020/12/16/78fecc30-fa22-43ff-b9a0-676f7a9a73ec/6a38d144-ff29-4e38-aa2b-e2d91c06bf43.png\" /></div></div>',\n",
       " 'article_type': 'article'}"
      ]
     },
     "execution_count": 34,
     "metadata": {},
     "output_type": "execute_result"
    }
   ],
   "source": [
    "kb_ds[\"train\"][0] "
   ]
  },
  {
   "cell_type": "code",
   "execution_count": 60,
   "id": "cb4fa744",
   "metadata": {},
   "outputs": [
    {
     "name": "stdout",
     "output_type": "stream",
     "text": [
      "8855 \n",
      "\n",
      "Wix Payments Verification Process\n",
      "Important:Wix Payments is not yet available to all users.You can start accepting payments on your site using Wix Payments almost immediately. However,  we need to verify your identity before your account can be fully activated. To verify your identity:\n",
      "For an individual account: You must complete your Wix Payments account setup within the same country as your bank is located.  For a business account: The country where your company is registered must match the country where your company's bank is located. This must be the same country in which you complete your Wix Payments account setup. For a sole proprietor (United Kingdom): The country where your company is registered must match the country where your company's bank is located. This must be the same country in which you complete your Wix Payments account setup. For a sole proprietor (Italy): The country where your company is registered must match the country where your company's bank is located. This must be the same country in which you complete your Wix Payments account setup.Verification processThe verification process requires you to submit your details for account setup. We review your information and your site's content to ensure that your business complies with our list of prohibited products and services.  During this process, we request further information, such as a copy of a valid government issued photo ID and a copy of your bank statement. These need to be uploaded to your Wix Payments Dashboard to verify your identity. This may take up to 7 business days. If you do not complete your account setup within 30 days, we will be required to suspend your Wix Payments account. Additionally, if you do not complete the setup within 60 days, any payment processed through Wix Payments will be refunded to your customers.For more information, see the Wix Payments, Adyen, Stripe United States and Stripe Canada Terms and Conditions for the following countries: Austria, Belgium, Canada, Finland, Germany, Ireland, Italy, Lithuania, Netherlands, Portugal, Spain, Switzerland, United Kingdom and the United States. Verification checklistIn addition to meeting the requirements below, the verification process begins once you've accepted the first successful payment to your Wix Payments account.To help Wix Payments verify your account details, you'll be prompted to add information (e.g. your photo ID and a bank statement. Learn more)Depending on your account type, review the relevant checklist to make sure you're providing the requested information correctly: Individual account\n",
      "Make sure you've written your personal information correctly:\n",
      "    \n",
      "Your first / middle / last name and your date of birth must match those listed in your photo ID.  Double check that you've entered your bank account number(s) correctly.\n",
      "Enter a physical address to verify your account. PO Boxes are not accepted as a valid address.  Upload an address verification document, such as a utility bill, to confirm your address. The document must have been issued within the last 6 months.   Add your Business Description:\n",
      "    \n",
      "Enter your Doing Business As name (The operating name of your business) Use the dropdown menu to select your Business Type Use the text box to add a short description of your products / services   Upload a color copy of your photo ID and a bank statement to verify your identity. Learn more.\n",
      "Allow 7 business days for the account to be verified. If 7 business days have already passed and you've verified the information is correct and matches your bank account details, contact Wix Customer Care. We will be happy to investigate this issue further. Business account\n",
      "Make sure you've written your personal and company information correctly. \n",
      "    \n",
      "Your first / middle / last name and your date of birth, must match those listed in your photo ID.   \n",
      "Double check that you've entered your bank account number(s) correctly. Your company's name and its registration number/tax ID must match the company's registered information. Your Doing Business As name should match what appears on your customers' statements. Enter a physical address to verify your account. PO Boxes are not accepted as a valid address. Upload an address verification document, such as a utility bill, to confirm your address. The document must have been issued within the last 6 months. Confirm that the Legal Business Name, Shareholder and VAT ID/Business ID/Tax ID/EIN entered in the form matches those associated with your business bank account.  Upload a document that proves the validity and ownership of the VAT ID/Business ID/Tax ID/EIN during registration. Add your Business Description:\n",
      "    \n",
      "Use the dropdown menu to select your Business Type Use the text box to add a short description of your products / services   Upload a color copy of your photo ID and bank statement to verify your identity. Learn more.  Allow 7 business days for the account to be verified. If 7 business days have already passed and you've verified the information is correct and matches your bank account details, contact Wix Customer Care. We will be happy to investigate this issue further. Sole proprietor account (United Kingdom)\n",
      "Make sure you've written your personal and company information correctly. \n",
      "    \n",
      "Your first / middle / last name and your date of birth, must match those listed in your photo ID.   \n",
      "Double check that you've entered your bank account number(s) correctly.\n",
      "    \n",
      "If you're a sole proprietor in the UK, make sure to submit a business bank account.    Your company's name and its Unique Taxpayer Reference (UTR) number must match the company's registered information. Your Doing Business As name should match what appears on your customers' statements. Enter a physical address to verify your account. PO Boxes are not accepted as a valid address. Upload an address verification document, such as a utility bill, to confirm your address. The document must have been issued within the last 6 months. Upload a document that proves the validity and ownership of the UTR during registration. Add your Business Description:\n",
      "    \n",
      "Use the dropdown menu to select your Business Type Use the text box to add a short description of your products / services   Upload a color copy of your photo ID and bank statement to verify your identity. Learn more.  Allow 7 business days for the account to be verified. If 7 business days have already passed and you've verified the information is correct and matches your bank account details, contact Wix Customer Care. We will be happy to investigate this issue further. Sole proprietor account (Italy)\n",
      "Make sure you've written your personal and company information correctly. \n",
      "    \n",
      "Your first / middle / last name and your date of birth, must match those listed in your photo ID.   \n",
      "Double check that you've entered your bank account number(s) correctly. Your company's name and its codice fiscale number must match the company's registered information. Your Doing Business As name should match what appears on your customers' statements. Enter a physical address to verify your account. PO Boxes are not accepted as a valid address. Upload an address verification document, such as a utility bill, to confirm your address. The document must have been issued within the last 6 months. Upload a document that proves the validity and ownership of the codice fiscale during registration. Add your Business Description:\n",
      "    \n",
      "Use the dropdown menu to select your Business Type Use the text box to add a short description of your products / services   Upload a color copy of your photo ID and bank statement to verify your identity.  Allow 7 business days for the account to be verified. If 7 business days have already passed and you've verified the information is correct and matches your bank account details, contact Wix Customer Care. We will be happy to investigate this issue further. FAQsClick a question below to learn more about Wix Payments account verification.How will Wix Payments contact me about my account verification?Wix Payments will email you using the email address used to set up your Wix account. Remember to check your spam folder if you can't locate an expected email. I'm a sole proprietor in the UK. Which account type should I choose?UK sole proprietors are required to submit a Unique Taxpayer Reference (UTR) number as well as a business bank account when setting up their Wix Payments account.\n",
      "If you haven't registered for a UTR, or possess only a personal bank account, you can choose an Individual account instead. I'm a sole proprietor in Italy. Which account type should I choose?Sole proprietors in Italy are required to submit a codice fiscale number when setting up their Wix Payments account. If you haven't registered for a codice fiscale, you can choose an Individual account instead. \n"
     ]
    }
   ],
   "source": [
    "article_text= \"\"\n",
    "for i in range(len(kb_ds[\"train\"])):\n",
    "   if kb_ds[\"train\"][i][\"id\"] == id:\n",
    "      article_text = kb_ds[\"train\"][i][\"contents\"]\n",
    "\n",
    "print(len(article_text), \"\\n\")\n",
    "print(article_text)"
   ]
  },
  {
   "cell_type": "code",
   "execution_count": 42,
   "id": "80fec31b",
   "metadata": {},
   "outputs": [
    {
     "name": "stdout",
     "output_type": "stream",
     "text": [
      "<class 'str'>\n"
     ]
    }
   ],
   "source": [
    "print(type(doc))"
   ]
  },
  {
   "cell_type": "code",
   "execution_count": 48,
   "id": "b7bff3bc",
   "metadata": {},
   "outputs": [],
   "source": [
    "from langchain.prompts import PromptTemplate\n",
    "from langchain.schema import Document\n",
    "from langchain.chains import LLMChain\n",
    "\n",
    "# 1. Define your custom system prompt\n",
    "prompt_template = PromptTemplate(\n",
    "    input_variables=[\"document\"],\n",
    "    template = SUMMARIZER_SYSTEM_PROMPT + \"\\n\" \n",
    "\"\"\" Document:\n",
    "{document}\n",
    "\n",
    "Summary:\n",
    "\n",
    "\"\"\",\n",
    ")\n",
    "llm = ChatOpenAI(model=\"gpt-4\")  # or gpt-4 if available\n",
    "\n",
    "summarization_chain = LLMChain(llm=llm, prompt=prompt_template)\n",
    "\n",
    "doc_text = doc\n"
   ]
  },
  {
   "cell_type": "code",
   "execution_count": 49,
   "id": "0cffaf4b",
   "metadata": {},
   "outputs": [
    {
     "name": "stdout",
     "output_type": "stream",
     "text": [
      "\n",
      "You are a helpful assistant tasked with summarizing internal company documents for a customer support chatbot.\n",
      "\n",
      "Your goal is to write a summary that captures the core intent and important details of the document, but specifically optimized for customer support use cases. The summary should reflect what real customer questions the document could help answer.\n",
      "\n",
      "\n",
      "\n",
      "Guidelines:\n",
      "\n",
      "Prioritize information that is relevant to common user concerns, tasks, or questions.\n",
      "\n",
      "Capture the full scope and meaning of the document without losing key details.\n",
      "\n",
      "Your summary should have high semantic overlap with the kinds of questions users might ask.\n",
      "\n",
      "You are not just summarizing — you are anticipating user intent and summarizing accordingly.\n",
      "\n",
      "Avoid generic or overly abstract phrasing. Be specific and actionable.\n",
      "\n",
      "The output should be concise yet comprehensive enough to support retrieval and grounding for question answering.\n",
      "\n",
      "Output the summary as a short paragraph or a list of key points (depending on content). Be accurate, clear, and helpful.\n",
      "\n",
      " Document:\n",
      "{document}\n",
      "\n",
      "Summary:\n",
      "\n",
      "\n"
     ]
    }
   ],
   "source": [
    "print(prompt_template.template)"
   ]
  },
  {
   "cell_type": "code",
   "execution_count": 50,
   "id": "44ec8899",
   "metadata": {},
   "outputs": [
    {
     "name": "stdout",
     "output_type": "stream",
     "text": [
      "\n",
      "=== Summary ===\n",
      "\n",
      "The Wix Payments Verification Process involves identity verification to activate user accounts. Users can start accepting payments immediately, with full activation post-verification. The setup must happen in the same country as the bank location. The verification process involves submitting personal details and documents such as a government-issued photo ID and bank statement, which are used to check compliance with Wix's rules for prohibited products and services. The process may take up to 7 business days. \n",
      "\n",
      "For account setup, specific checks are required for individual accounts, business accounts, sole proprietor accounts in the UK, and Italy. These involve ensuring accurately entered personal and company information, bank account numbers, physical address verification, business descriptions, proof of tax IDs, and matching details with bank account information.\n",
      "\n",
      "Failure to complete account setup within 30 days results in suspension, while failure within 60 days results in refunds of any payment processed through Wix Payments. Any queries post 7-day verification period can be resolved by contacting Wix Customer Care. Wix Payments communicates verification matters via email used to set up the Wix account. For Sole proprietors in the UK - a Unique Taxpayer Reference (UTR) number and a business bank account are necessary while in Italy - a codice fiscale number is required. Without these, an Individual account setup can be chosen.\n"
     ]
    }
   ],
   "source": [
    "summary = summarization_chain.run({\"document\": doc_text})\n",
    "\n",
    "print(\"\\n=== Summary ===\\n\")\n",
    "print(summary)"
   ]
  },
  {
   "cell_type": "code",
   "execution_count": 53,
   "id": "8ae1d8e5",
   "metadata": {},
   "outputs": [],
   "source": [
    "from langchain_openai import OpenAIEmbeddings, ChatOpenAI\n",
    "from langchain.vectorstores import FAISS\n",
    "# from langchain.text_splitter import CharacterTextSplitter\n",
    "from langchain.chains import RetrievalQA\n",
    "from langchain.schema import Document\n",
    "\n",
    "\n",
    "embeddings = OpenAIEmbeddings()\n",
    "documents = [Document(page_content=summary, metadata={\"id\": id})]\n",
    "docsearch = FAISS.from_documents(documents, embedding=embeddings)\n",
    "\n",
    "\n",
    "qa_chain = RetrievalQA.from_chain_type(\n",
    "    llm=llm,\n",
    "    retriever=docsearch.as_retriever(),\n",
    "    return_source_documents=True\n",
    ")"
   ]
  },
  {
   "cell_type": "code",
   "execution_count": 54,
   "id": "ccff01d1",
   "metadata": {},
   "outputs": [],
   "source": [
    "query = expert_ds[\"train\"][0][\"question\"]\n",
    "result = qa_chain.invoke({\"query\": query})\n"
   ]
  },
  {
   "cell_type": "code",
   "execution_count": 78,
   "id": "b6e91d1d",
   "metadata": {},
   "outputs": [],
   "source": [
    "expert_answer = expert_ds[\"train\"][0][\"answer\"]"
   ]
  },
  {
   "cell_type": "code",
   "execution_count": 56,
   "id": "1021c09f",
   "metadata": {},
   "outputs": [
    {
     "name": "stdout",
     "output_type": "stream",
     "text": [
      "\n",
      "=== Source Document ===\n",
      "\n",
      "The Wix Payments Verification Process involves identity verification to activate user accounts. Users can start accepting payments immediately, with full activation post-verification. The setup must happen in the same country as the bank location. The verification process involves submitting personal details and documents such as a government-issued photo ID and bank statement, which are used to check compliance with Wix's rules for prohibited products and services. The process may take up to 7 business days. \n",
      "\n",
      "For account setup, specific checks are required for individual accounts, business accounts, sole proprietor accounts in the UK, and Italy. These involve ensuring accurately entered personal and company information, bank account numbers, physical address verification, business descriptions, proof of tax IDs, and matching details with bank account information.\n",
      "\n",
      "Failure to complete account setup within 30 days results in suspension, while failure within 60 days results in refunds of any payment processed through Wix Payments. Any queries post 7-day verification period can be resolved by contacting Wix Customer Care. Wix Payments communicates verification matters via email used to set up the Wix account. For Sole proprietors in the UK - a Unique Taxpayer Reference (UTR) number and a business bank account are necessary while in Italy - a codice fiscale number is required. Without these, an Individual account setup can be chosen.\n",
      "{'id': '49d9e88fadbf11fa4e685c847590078ff9394c2fe7566094f504f53ca4aca465'}\n"
     ]
    }
   ],
   "source": [
    "print(\"\\n=== Source Document ===\\n\")\n",
    "for doc in result[\"source_documents\"]:\n",
    "    print(doc.page_content)\n",
    "    print(doc.metadata)"
   ]
  },
  {
   "cell_type": "code",
   "execution_count": null,
   "id": "6613ce84",
   "metadata": {},
   "outputs": [],
   "source": []
  },
  {
   "cell_type": "code",
   "execution_count": 62,
   "id": "f0db49fc",
   "metadata": {},
   "outputs": [],
   "source": [
    "m = {id: article_text}"
   ]
  },
  {
   "cell_type": "code",
   "execution_count": 65,
   "id": "4c8cf026",
   "metadata": {},
   "outputs": [
    {
     "data": {
      "text/plain": [
       "\"Wix Payments Verification Process\\nImportant:Wix Payments is not yet available to all users.You can start accepting payments on your site using Wix Payments almost immediately. However,\\xa0 we need to verify your identity before your account can be fully activated.\\xa0To verify your identity:\\nFor an individual account: You must complete your Wix Payments account setup within the same country as your bank is located.\\xa0 For a business account: The country where your company is registered must match the country where your company's bank is located. This must be the same country in which you complete your Wix Payments account setup. For a sole proprietor (United Kingdom): The country where your company is registered must match the country where your company's bank is located. This must be the same country in which you complete your Wix Payments account setup. For a sole proprietor (Italy): The country where your company is registered must match the country where your company's bank is located. This must be the same country in which you complete your Wix Payments account setup.Verification processThe verification process requires you to submit your details for account setup. We review your information and your site's content to ensure that your business complies with our list of prohibited products and services. \\xa0During this process, we request further information, such as a copy of a valid government issued photo ID and a copy of your bank statement. These need to be uploaded to your Wix Payments Dashboard to verify your identity. This may take up to 7 business days.\\xa0If you do not complete your account setup within 30 days, we will be required to suspend your Wix Payments account. Additionally, if you do not complete the setup within 60 days, any payment processed through Wix Payments will be refunded to your customers.For more information, see the Wix Payments, Adyen, Stripe United States and Stripe Canada Terms and Conditions for the following countries: Austria, Belgium, Canada, Finland, Germany, Ireland, Italy, Lithuania, Netherlands, Portugal, Spain, Switzerland, United Kingdom and the United States.\\xa0Verification checklistIn addition to meeting the requirements below, the verification process begins once you've accepted the first successful payment to your Wix Payments account.To help Wix Payments verify your account details, you'll be prompted to add information (e.g. your photo ID and a bank statement.\\xa0Learn more)Depending on your account type, review the relevant checklist to make sure you're providing the requested information correctly:\\xa0Individual account\\nMake sure you've written your personal information correctly:\\n    \\nYour first / middle / last name and your date of birth must match those listed in your photo ID.\\xa0 Double check that you've entered your bank account number(s) correctly.\\nEnter a physical address to verify your account. PO Boxes are not accepted as a valid address.\\xa0 Upload an address verification document, such as a utility bill, to confirm your address. The document must have been issued within the last 6 months.   Add your Business Description:\\n    \\nEnter your Doing Business As name (The operating name of your business) Use the dropdown menu to select your Business Type Use the text box to add a short description of your products / services   Upload a color copy of your photo ID and a bank statement to verify your identity. Learn more.\\nAllow 7 business days for the account to be verified. If 7 business days have already passed and you've verified the information is correct and matches your bank account details, contact Wix Customer Care. We will be happy to investigate this issue further.\\xa0Business account\\nMake sure you've written your personal and company information correctly.\\xa0\\n    \\nYour first / middle / last name and your date of birth, must match those listed in your photo ID.\\xa0  \\nDouble check that you've entered your bank account number(s) correctly. Your company's name and its registration number/tax ID must match the company's registered information. Your Doing Business As name should match what appears on your customers' statements. Enter a physical address to verify your account. PO Boxes are not accepted as a valid address. Upload an address verification document, such as a utility bill, to confirm your address. The document must have been issued within the last 6 months. Confirm that the Legal Business Name, Shareholder and VAT ID/Business ID/Tax ID/EIN entered in the form matches those associated with your business bank account.\\xa0 Upload a document that proves the validity and ownership of the VAT ID/Business ID/Tax ID/EIN during registration. Add your Business Description:\\n    \\nUse the dropdown menu to select your Business Type Use the text box to add a short description of your products / services   Upload a color copy of your photo ID and bank statement to verify your identity. Learn more.\\xa0 Allow 7 business days for the account to be verified. If 7 business days have already passed and you've verified the information is correct and matches your bank account details, contact Wix Customer Care. We will be happy to investigate this issue further.\\xa0Sole proprietor account (United Kingdom)\\nMake sure you've written your personal and company information correctly.\\xa0\\n    \\nYour first / middle / last name and your date of birth, must match those listed in your photo ID.\\xa0  \\nDouble check that you've entered your bank account number(s) correctly.\\n    \\nIf you're a sole proprietor in the UK, make sure to submit a business bank account.\\xa0   Your company's name and its Unique Taxpayer Reference (UTR) number must match the company's registered information. Your Doing Business As name should match what appears on your customers' statements. Enter a physical address to verify your account. PO Boxes are not accepted as a valid address. Upload an address verification document, such as a utility bill, to confirm your address. The document must have been issued within the last 6 months. Upload a document that proves the validity and ownership of the UTR during registration. Add your Business Description:\\n    \\nUse the dropdown menu to select your Business Type Use the text box to add a short description of your products / services   Upload a color copy of your photo ID and bank statement to verify your identity. Learn more.\\xa0 Allow 7 business days for the account to be verified. If 7 business days have already passed and you've verified the information is correct and matches your bank account details, contact Wix Customer Care. We will be happy to investigate this issue further.\\xa0Sole proprietor account (Italy)\\nMake sure you've written your personal and company information correctly.\\xa0\\n    \\nYour first / middle / last name and your date of birth, must match those listed in your photo ID.\\xa0  \\nDouble check that you've entered your bank account number(s) correctly. Your company's name and its codice fiscale number must match the company's registered information. Your Doing Business As name should match what appears on your customers' statements. Enter a physical address to verify your account. PO Boxes are not accepted as a valid address. Upload an address verification document, such as a utility bill, to confirm your address. The document must have been issued within the last 6 months. Upload a document that proves the validity and ownership of the codice fiscale during registration. Add your Business Description:\\n    \\nUse the dropdown menu to select your Business Type Use the text box to add a short description of your products / services   Upload a color copy of your photo ID and bank statement to verify your identity.\\xa0 Allow 7 business days for the account to be verified. If 7 business days have already passed and you've verified the information is correct and matches your bank account details, contact Wix Customer Care. We will be happy to investigate this issue further.\\xa0FAQsClick a question below to learn more about Wix Payments account verification.How will Wix Payments contact me about my account verification?Wix Payments will email you using the email address used to set up your Wix account. Remember to check your spam folder if you can't locate an expected email.\\xa0I'm a sole proprietor in the UK. Which account type should I choose?UK sole proprietors are required to submit a Unique Taxpayer Reference (UTR) number as well as a business bank account when setting up their Wix Payments account.\\nIf you haven't registered for a UTR, or possess only a personal bank account, you can choose an Individual account instead.\\xa0I'm a sole proprietor in Italy. Which account type should I choose?Sole proprietors in Italy are required to submit a codice fiscale number when setting up their Wix Payments account. If you haven't registered for a codice fiscale, you can choose an Individual account instead.\\xa0\""
      ]
     },
     "execution_count": 65,
     "metadata": {},
     "output_type": "execute_result"
    }
   ],
   "source": [
    "m[id]"
   ]
  },
  {
   "cell_type": "code",
   "execution_count": 72,
   "id": "453b586f",
   "metadata": {},
   "outputs": [
    {
     "name": "stdout",
     "output_type": "stream",
     "text": [
      "\n",
      "=== Answer ===\n",
      "\n",
      "Yes, you can start accepting payments immediately through your Wix Payments account even while it's still under verification. However, full activation occurs post-verification.\n"
     ]
    }
   ],
   "source": [
    "print(\"\\n=== Answer ===\\n\")\n",
    "print(result[\"result\"])"
   ]
  },
  {
   "cell_type": "code",
   "execution_count": 70,
   "id": "434b7b08",
   "metadata": {},
   "outputs": [],
   "source": [
    "whole_context = m[id]"
   ]
  },
  {
   "cell_type": "code",
   "execution_count": 76,
   "id": "6c0c007c",
   "metadata": {},
   "outputs": [
    {
     "data": {
      "text/plain": [
       "\"Wix Payments Verification Process\\nImportant:Wix Payments is not yet available to all users.You can start accepting payments on your site using Wix Payments almost immediately. However,\\xa0 we need to verify your identity before your account can be fully activated.\\xa0To verify your identity:\\nFor an individual account: You must complete your Wix Payments account setup within the same country as your bank is located.\\xa0 For a business account: The country where your company is registered must match the country where your company's bank is located. This must be the same country in which you complete your Wix Payments account setup. For a sole proprietor (United Kingdom): The country where your company is registered must match the country where your company's bank is located. This must be the same country in which you complete your Wix Payments account setup. For a sole proprietor (Italy): The country where your company is registered must match the country where your company's bank is located. This must be the same country in which you complete your Wix Payments account setup.Verification processThe verification process requires you to submit your details for account setup. We review your information and your site's content to ensure that your business complies with our list of prohibited products and services. \\xa0During this process, we request further information, such as a copy of a valid government issued photo ID and a copy of your bank statement. These need to be uploaded to your Wix Payments Dashboard to verify your identity. This may take up to 7 business days.\\xa0If you do not complete your account setup within 30 days, we will be required to suspend your Wix Payments account. Additionally, if you do not complete the setup within 60 days, any payment processed through Wix Payments will be refunded to your customers.For more information, see the Wix Payments, Adyen, Stripe United States and Stripe Canada Terms and Conditions for the following countries: Austria, Belgium, Canada, Finland, Germany, Ireland, Italy, Lithuania, Netherlands, Portugal, Spain, Switzerland, United Kingdom and the United States.\\xa0Verification checklistIn addition to meeting the requirements below, the verification process begins once you've accepted the first successful payment to your Wix Payments account.To help Wix Payments verify your account details, you'll be prompted to add information (e.g. your photo ID and a bank statement.\\xa0Learn more)Depending on your account type, review the relevant checklist to make sure you're providing the requested information correctly:\\xa0Individual account\\nMake sure you've written your personal information correctly:\\n    \\nYour first / middle / last name and your date of birth must match those listed in your photo ID.\\xa0 Double check that you've entered your bank account number(s) correctly.\\nEnter a physical address to verify your account. PO Boxes are not accepted as a valid address.\\xa0 Upload an address verification document, such as a utility bill, to confirm your address. The document must have been issued within the last 6 months.   Add your Business Description:\\n    \\nEnter your Doing Business As name (The operating name of your business) Use the dropdown menu to select your Business Type Use the text box to add a short description of your products / services   Upload a color copy of your photo ID and a bank statement to verify your identity. Learn more.\\nAllow 7 business days for the account to be verified. If 7 business days have already passed and you've verified the information is correct and matches your bank account details, contact Wix Customer Care. We will be happy to investigate this issue further.\\xa0Business account\\nMake sure you've written your personal and company information correctly.\\xa0\\n    \\nYour first / middle / last name and your date of birth, must match those listed in your photo ID.\\xa0  \\nDouble check that you've entered your bank account number(s) correctly. Your company's name and its registration number/tax ID must match the company's registered information. Your Doing Business As name should match what appears on your customers' statements. Enter a physical address to verify your account. PO Boxes are not accepted as a valid address. Upload an address verification document, such as a utility bill, to confirm your address. The document must have been issued within the last 6 months. Confirm that the Legal Business Name, Shareholder and VAT ID/Business ID/Tax ID/EIN entered in the form matches those associated with your business bank account.\\xa0 Upload a document that proves the validity and ownership of the VAT ID/Business ID/Tax ID/EIN during registration. Add your Business Description:\\n    \\nUse the dropdown menu to select your Business Type Use the text box to add a short description of your products / services   Upload a color copy of your photo ID and bank statement to verify your identity. Learn more.\\xa0 Allow 7 business days for the account to be verified. If 7 business days have already passed and you've verified the information is correct and matches your bank account details, contact Wix Customer Care. We will be happy to investigate this issue further.\\xa0Sole proprietor account (United Kingdom)\\nMake sure you've written your personal and company information correctly.\\xa0\\n    \\nYour first / middle / last name and your date of birth, must match those listed in your photo ID.\\xa0  \\nDouble check that you've entered your bank account number(s) correctly.\\n    \\nIf you're a sole proprietor in the UK, make sure to submit a business bank account.\\xa0   Your company's name and its Unique Taxpayer Reference (UTR) number must match the company's registered information. Your Doing Business As name should match what appears on your customers' statements. Enter a physical address to verify your account. PO Boxes are not accepted as a valid address. Upload an address verification document, such as a utility bill, to confirm your address. The document must have been issued within the last 6 months. Upload a document that proves the validity and ownership of the UTR during registration. Add your Business Description:\\n    \\nUse the dropdown menu to select your Business Type Use the text box to add a short description of your products / services   Upload a color copy of your photo ID and bank statement to verify your identity. Learn more.\\xa0 Allow 7 business days for the account to be verified. If 7 business days have already passed and you've verified the information is correct and matches your bank account details, contact Wix Customer Care. We will be happy to investigate this issue further.\\xa0Sole proprietor account (Italy)\\nMake sure you've written your personal and company information correctly.\\xa0\\n    \\nYour first / middle / last name and your date of birth, must match those listed in your photo ID.\\xa0  \\nDouble check that you've entered your bank account number(s) correctly. Your company's name and its codice fiscale number must match the company's registered information. Your Doing Business As name should match what appears on your customers' statements. Enter a physical address to verify your account. PO Boxes are not accepted as a valid address. Upload an address verification document, such as a utility bill, to confirm your address. The document must have been issued within the last 6 months. Upload a document that proves the validity and ownership of the codice fiscale during registration. Add your Business Description:\\n    \\nUse the dropdown menu to select your Business Type Use the text box to add a short description of your products / services   Upload a color copy of your photo ID and bank statement to verify your identity.\\xa0 Allow 7 business days for the account to be verified. If 7 business days have already passed and you've verified the information is correct and matches your bank account details, contact Wix Customer Care. We will be happy to investigate this issue further.\\xa0FAQsClick a question below to learn more about Wix Payments account verification.How will Wix Payments contact me about my account verification?Wix Payments will email you using the email address used to set up your Wix account. Remember to check your spam folder if you can't locate an expected email.\\xa0I'm a sole proprietor in the UK. Which account type should I choose?UK sole proprietors are required to submit a Unique Taxpayer Reference (UTR) number as well as a business bank account when setting up their Wix Payments account.\\nIf you haven't registered for a UTR, or possess only a personal bank account, you can choose an Individual account instead.\\xa0I'm a sole proprietor in Italy. Which account type should I choose?Sole proprietors in Italy are required to submit a codice fiscale number when setting up their Wix Payments account. If you haven't registered for a codice fiscale, you can choose an Individual account instead.\\xa0\""
      ]
     },
     "execution_count": 76,
     "metadata": {},
     "output_type": "execute_result"
    }
   ],
   "source": [
    "article_text"
   ]
  },
  {
   "cell_type": "code",
   "execution_count": 71,
   "id": "cb90d5d0",
   "metadata": {},
   "outputs": [
    {
     "data": {
      "text/plain": [
       "\"Wix Payments Verification Process\\nImportant:Wix Payments is not yet available to all users.You can start accepting payments on your site using Wix Payments almost immediately. However,\\xa0 we need to verify your identity before your account can be fully activated.\\xa0To verify your identity:\\nFor an individual account: You must complete your Wix Payments account setup within the same country as your bank is located.\\xa0 For a business account: The country where your company is registered must match the country where your company's bank is located. This must be the same country in which you complete your Wix Payments account setup. For a sole proprietor (United Kingdom): The country where your company is registered must match the country where your company's bank is located. This must be the same country in which you complete your Wix Payments account setup. For a sole proprietor (Italy): The country where your company is registered must match the country where your company's bank is located. This must be the same country in which you complete your Wix Payments account setup.Verification processThe verification process requires you to submit your details for account setup. We review your information and your site's content to ensure that your business complies with our list of prohibited products and services. \\xa0During this process, we request further information, such as a copy of a valid government issued photo ID and a copy of your bank statement. These need to be uploaded to your Wix Payments Dashboard to verify your identity. This may take up to 7 business days.\\xa0If you do not complete your account setup within 30 days, we will be required to suspend your Wix Payments account. Additionally, if you do not complete the setup within 60 days, any payment processed through Wix Payments will be refunded to your customers.For more information, see the Wix Payments, Adyen, Stripe United States and Stripe Canada Terms and Conditions for the following countries: Austria, Belgium, Canada, Finland, Germany, Ireland, Italy, Lithuania, Netherlands, Portugal, Spain, Switzerland, United Kingdom and the United States.\\xa0Verification checklistIn addition to meeting the requirements below, the verification process begins once you've accepted the first successful payment to your Wix Payments account.To help Wix Payments verify your account details, you'll be prompted to add information (e.g. your photo ID and a bank statement.\\xa0Learn more)Depending on your account type, review the relevant checklist to make sure you're providing the requested information correctly:\\xa0Individual account\\nMake sure you've written your personal information correctly:\\n    \\nYour first / middle / last name and your date of birth must match those listed in your photo ID.\\xa0 Double check that you've entered your bank account number(s) correctly.\\nEnter a physical address to verify your account. PO Boxes are not accepted as a valid address.\\xa0 Upload an address verification document, such as a utility bill, to confirm your address. The document must have been issued within the last 6 months.   Add your Business Description:\\n    \\nEnter your Doing Business As name (The operating name of your business) Use the dropdown menu to select your Business Type Use the text box to add a short description of your products / services   Upload a color copy of your photo ID and a bank statement to verify your identity. Learn more.\\nAllow 7 business days for the account to be verified. If 7 business days have already passed and you've verified the information is correct and matches your bank account details, contact Wix Customer Care. We will be happy to investigate this issue further.\\xa0Business account\\nMake sure you've written your personal and company information correctly.\\xa0\\n    \\nYour first / middle / last name and your date of birth, must match those listed in your photo ID.\\xa0  \\nDouble check that you've entered your bank account number(s) correctly. Your company's name and its registration number/tax ID must match the company's registered information. Your Doing Business As name should match what appears on your customers' statements. Enter a physical address to verify your account. PO Boxes are not accepted as a valid address. Upload an address verification document, such as a utility bill, to confirm your address. The document must have been issued within the last 6 months. Confirm that the Legal Business Name, Shareholder and VAT ID/Business ID/Tax ID/EIN entered in the form matches those associated with your business bank account.\\xa0 Upload a document that proves the validity and ownership of the VAT ID/Business ID/Tax ID/EIN during registration. Add your Business Description:\\n    \\nUse the dropdown menu to select your Business Type Use the text box to add a short description of your products / services   Upload a color copy of your photo ID and bank statement to verify your identity. Learn more.\\xa0 Allow 7 business days for the account to be verified. If 7 business days have already passed and you've verified the information is correct and matches your bank account details, contact Wix Customer Care. We will be happy to investigate this issue further.\\xa0Sole proprietor account (United Kingdom)\\nMake sure you've written your personal and company information correctly.\\xa0\\n    \\nYour first / middle / last name and your date of birth, must match those listed in your photo ID.\\xa0  \\nDouble check that you've entered your bank account number(s) correctly.\\n    \\nIf you're a sole proprietor in the UK, make sure to submit a business bank account.\\xa0   Your company's name and its Unique Taxpayer Reference (UTR) number must match the company's registered information. Your Doing Business As name should match what appears on your customers' statements. Enter a physical address to verify your account. PO Boxes are not accepted as a valid address. Upload an address verification document, such as a utility bill, to confirm your address. The document must have been issued within the last 6 months. Upload a document that proves the validity and ownership of the UTR during registration. Add your Business Description:\\n    \\nUse the dropdown menu to select your Business Type Use the text box to add a short description of your products / services   Upload a color copy of your photo ID and bank statement to verify your identity. Learn more.\\xa0 Allow 7 business days for the account to be verified. If 7 business days have already passed and you've verified the information is correct and matches your bank account details, contact Wix Customer Care. We will be happy to investigate this issue further.\\xa0Sole proprietor account (Italy)\\nMake sure you've written your personal and company information correctly.\\xa0\\n    \\nYour first / middle / last name and your date of birth, must match those listed in your photo ID.\\xa0  \\nDouble check that you've entered your bank account number(s) correctly. Your company's name and its codice fiscale number must match the company's registered information. Your Doing Business As name should match what appears on your customers' statements. Enter a physical address to verify your account. PO Boxes are not accepted as a valid address. Upload an address verification document, such as a utility bill, to confirm your address. The document must have been issued within the last 6 months. Upload a document that proves the validity and ownership of the codice fiscale during registration. Add your Business Description:\\n    \\nUse the dropdown menu to select your Business Type Use the text box to add a short description of your products / services   Upload a color copy of your photo ID and bank statement to verify your identity.\\xa0 Allow 7 business days for the account to be verified. If 7 business days have already passed and you've verified the information is correct and matches your bank account details, contact Wix Customer Care. We will be happy to investigate this issue further.\\xa0FAQsClick a question below to learn more about Wix Payments account verification.How will Wix Payments contact me about my account verification?Wix Payments will email you using the email address used to set up your Wix account. Remember to check your spam folder if you can't locate an expected email.\\xa0I'm a sole proprietor in the UK. Which account type should I choose?UK sole proprietors are required to submit a Unique Taxpayer Reference (UTR) number as well as a business bank account when setting up their Wix Payments account.\\nIf you haven't registered for a UTR, or possess only a personal bank account, you can choose an Individual account instead.\\xa0I'm a sole proprietor in Italy. Which account type should I choose?Sole proprietors in Italy are required to submit a codice fiscale number when setting up their Wix Payments account. If you haven't registered for a codice fiscale, you can choose an Individual account instead.\\xa0\""
      ]
     },
     "execution_count": 71,
     "metadata": {},
     "output_type": "execute_result"
    }
   ],
   "source": [
    "whole_context"
   ]
  },
  {
   "cell_type": "code",
   "execution_count": 73,
   "id": "642a833c",
   "metadata": {},
   "outputs": [],
   "source": [
    "prompt_template = PromptTemplate(\n",
    "    input_variables=[\"context\", \"question\"],\n",
    "    template=\"\"\"\n",
    "You are a helpful support assistant.\n",
    "\n",
    "Use the context below to answer the user's question as clearly and helpfully as possible.\n",
    "\n",
    "Context:\n",
    "{context}\n",
    "\n",
    "Question:\n",
    "{question}\n",
    "\n",
    "Answer:\n",
    "\"\"\",\n",
    ")\n",
    "qa_chain = LLMChain(llm=llm, prompt=prompt_template)"
   ]
  },
  {
   "cell_type": "code",
   "execution_count": 77,
   "id": "0d0462cb",
   "metadata": {},
   "outputs": [
    {
     "name": "stdout",
     "output_type": "stream",
     "text": [
      "\n",
      "=== Final Answer ===\n",
      "\n",
      "Yes, you can start accepting payments on your site using Wix Payments almost immediately. However, the full activation of your account will only occur once your identity is verified. This verification process requires you to submit your details for account setup, and needs to be fully completed within 30 days to avoid suspension of your Wix Payments account.\n"
     ]
    }
   ],
   "source": [
    "final_answer = qa_chain.run({\n",
    "    \"context\": whole_context,\n",
    "    \"question\": query\n",
    "})\n",
    "\n",
    "print(\"\\n=== Final Answer ===\\n\")\n",
    "print(final_answer)"
   ]
  },
  {
   "cell_type": "code",
   "execution_count": 79,
   "id": "62a95cef",
   "metadata": {},
   "outputs": [
    {
     "data": {
      "text/plain": [
       "'You can start accepting payments on your site using [Wix Payments](https://support.wix.com/en/article/about-wix-payments) almost immediately. However, we need to verify your identity before your account can be fully activated.'"
      ]
     },
     "execution_count": 79,
     "metadata": {},
     "output_type": "execute_result"
    }
   ],
   "source": [
    "expert_answer"
   ]
  },
  {
   "cell_type": "code",
   "execution_count": 122,
   "id": "207bd72d",
   "metadata": {},
   "outputs": [],
   "source": [
    "from ragas.metrics  import Faithfulness, ResponseRelevancy, LLMContextPrecisionWithoutReference, FactualCorrectness\n",
    "from ragas.evaluation import evaluate\n",
    "from ragas.dataset_schema import EvaluationDataset\n",
    "from ragas.llms import LangchainLLMWrapper\n",
    "from ragas.embeddings import LangchainEmbeddingsWrapper"
   ]
  },
  {
   "cell_type": "code",
   "execution_count": null,
   "id": "6d82e145",
   "metadata": {},
   "outputs": [],
   "source": []
  },
  {
   "cell_type": "code",
   "execution_count": 99,
   "id": "87ed39cc",
   "metadata": {},
   "outputs": [],
   "source": [
    "from datasets import Dataset"
   ]
  },
  {
   "cell_type": "code",
   "execution_count": 102,
   "id": "62f6dda5",
   "metadata": {},
   "outputs": [],
   "source": [
    "sample_dict = {\n",
    "        \"question\": [query],\n",
    "        \"context\": [whole_context],\n",
    "        \"answer\": [final_answer],\n",
    "        \"ground_truth\": [expert_answer]\n",
    "}"
   ]
  },
  {
   "cell_type": "code",
   "execution_count": 103,
   "id": "1409af67",
   "metadata": {},
   "outputs": [],
   "source": [
    "eval_dataset = Dataset.from_dict(sample_dict)"
   ]
  },
  {
   "cell_type": "code",
   "execution_count": 105,
   "id": "6eb4a8c4",
   "metadata": {},
   "outputs": [
    {
     "name": "stderr",
     "output_type": "stream",
     "text": [
      "Evaluating: 100%|██████████| 1/1 [00:02<00:00,  2.62s/it]\n"
     ]
    }
   ],
   "source": [
    "from ragas.metrics import (\n",
    "    answer_similarity,\n",
    "    \n",
    ")\n",
    "\n",
    "scores = evaluate(\n",
    "    dataset=eval_dataset,\n",
    "    metrics=[answer_similarity]\n",
    ")"
   ]
  },
  {
   "cell_type": "code",
   "execution_count": 106,
   "id": "7e16fc02",
   "metadata": {},
   "outputs": [
    {
     "data": {
      "text/plain": [
       "{'semantic_similarity': 0.9600}"
      ]
     },
     "execution_count": 106,
     "metadata": {},
     "output_type": "execute_result"
    }
   ],
   "source": [
    "scores"
   ]
  },
  {
   "cell_type": "code",
   "execution_count": 125,
   "id": "52ad926a",
   "metadata": {},
   "outputs": [],
   "source": [
    "dataset = EvaluationDataset.from_dict([\n",
    "    {\n",
    "        \"question\": query,\n",
    "        \"context\": whole_context,\n",
    "        \"answer\": final_answer, \n",
    "        \"ground_truth\": expert_answer,\n",
    "        \"response\": final_answer,\n",
    "        \"user_input\": query,\n",
    "        \"retrieved_contexts\": [whole_context],\n",
    "        \"reference\": expert_answer\n",
    "    }\n",
    "])\n",
    "\n",
    "metrics = [\n",
    "    Faithfulness(),\n",
    "    ResponseRelevancy(),\n",
    "    LLMContextPrecisionWithoutReference(),\n",
    "    FactualCorrectness()\n",
    "    \n",
    "]"
   ]
  },
  {
   "cell_type": "code",
   "execution_count": 117,
   "id": "b401bef9",
   "metadata": {},
   "outputs": [],
   "source": [
    "from ragas.run_config import RunConfig"
   ]
  },
  {
   "cell_type": "code",
   "execution_count": 118,
   "id": "13183047",
   "metadata": {},
   "outputs": [],
   "source": [
    "for m in metrics:\n",
    "    if hasattr(m, \"llm\"):\n",
    "        m.llm = LangchainLLMWrapper(llm)\n",
    "    if hasattr(m, \"embeddings\"):\n",
    "        m.embeddings = LangchainEmbeddingsWrapper(embeddings=embeddings)\n",
    "    m.init(RunConfig())"
   ]
  },
  {
   "cell_type": "code",
   "execution_count": 126,
   "id": "2a32945c",
   "metadata": {},
   "outputs": [
    {
     "name": "stderr",
     "output_type": "stream",
     "text": [
      "Evaluating: 100%|██████████| 4/4 [00:22<00:00,  5.67s/it]\n"
     ]
    }
   ],
   "source": [
    "result = evaluate(dataset, metrics = metrics,llm=LangchainLLMWrapper(llm), embeddings= LangchainEmbeddingsWrapper(embeddings),run_config=RunConfig() )"
   ]
  },
  {
   "cell_type": "code",
   "execution_count": 127,
   "id": "3a861ed9",
   "metadata": {},
   "outputs": [
    {
     "data": {
      "text/plain": [
       "{'faithfulness': 1.0000, 'answer_relevancy': 0.9303, 'llm_context_precision_without_reference': 1.0000, 'factual_correctness(mode=f1)': 0.6700}"
      ]
     },
     "execution_count": 127,
     "metadata": {},
     "output_type": "execute_result"
    }
   ],
   "source": [
    "result"
   ]
  },
  {
   "cell_type": "code",
   "execution_count": null,
   "id": "b731fb2f",
   "metadata": {},
   "outputs": [],
   "source": []
  },
  {
   "cell_type": "code",
   "execution_count": null,
   "id": "d85c2c0f",
   "metadata": {},
   "outputs": [],
   "source": []
  },
  {
   "cell_type": "code",
   "execution_count": null,
   "id": "0a0bc225",
   "metadata": {},
   "outputs": [],
   "source": []
  },
  {
   "cell_type": "code",
   "execution_count": null,
   "id": "04d2f5d3",
   "metadata": {},
   "outputs": [],
   "source": []
  },
  {
   "cell_type": "code",
   "execution_count": null,
   "id": "c5e23702",
   "metadata": {},
   "outputs": [],
   "source": []
  }
 ],
 "metadata": {
  "kernelspec": {
   "display_name": "Python 3",
   "language": "python",
   "name": "python3"
  },
  "language_info": {
   "codemirror_mode": {
    "name": "ipython",
    "version": 3
   },
   "file_extension": ".py",
   "mimetype": "text/x-python",
   "name": "python",
   "nbconvert_exporter": "python",
   "pygments_lexer": "ipython3",
   "version": "3.11.13"
  }
 },
 "nbformat": 4,
 "nbformat_minor": 5
}
